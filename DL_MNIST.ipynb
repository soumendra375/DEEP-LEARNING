{
  "nbformat": 4,
  "nbformat_minor": 0,
  "metadata": {
    "colab": {
      "name": "DL MNIST.ipynb",
      "provenance": [],
      "authorship_tag": "ABX9TyM8iH6M9PH/XiT+IB7tO4D6",
      "include_colab_link": true
    },
    "kernelspec": {
      "name": "python3",
      "display_name": "Python 3"
    }
  },
  "cells": [
    {
      "cell_type": "markdown",
      "metadata": {
        "id": "view-in-github",
        "colab_type": "text"
      },
      "source": [
        "<a href=\"https://colab.research.google.com/github/soumendra375/DEEP-LEARNING/blob/master/DL_MNIST.ipynb\" target=\"_parent\"><img src=\"https://colab.research.google.com/assets/colab-badge.svg\" alt=\"Open In Colab\"/></a>"
      ]
    },
    {
      "cell_type": "code",
      "metadata": {
        "id": "KsGXeyBuWWD5",
        "colab_type": "code",
        "outputId": "353435c7-87ab-4f32-eedb-1052ae550d0b",
        "colab": {
          "base_uri": "https://localhost:8080/",
          "height": 80
        }
      },
      "source": [
        "from keras.datasets import mnist\n",
        "import keras.utils.np_utils as ku\n",
        "import keras.models as models\n",
        "import keras.layers as layers\n",
        "from keras import regularizers\n",
        "import numpy as np\n",
        "import matplotlib.pyplot as plt\n",
        "%matplotlib inline"
      ],
      "execution_count": 0,
      "outputs": [
        {
          "output_type": "stream",
          "text": [
            "Using TensorFlow backend.\n"
          ],
          "name": "stderr"
        },
        {
          "output_type": "display_data",
          "data": {
            "text/html": [
              "<p style=\"color: red;\">\n",
              "The default version of TensorFlow in Colab will soon switch to TensorFlow 2.x.<br>\n",
              "We recommend you <a href=\"https://www.tensorflow.org/guide/migrate\" target=\"_blank\">upgrade</a> now \n",
              "or ensure your notebook will continue to use TensorFlow 1.x via the <code>%tensorflow_version 1.x</code> magic:\n",
              "<a href=\"https://colab.research.google.com/notebooks/tensorflow_version.ipynb\" target=\"_blank\">more info</a>.</p>\n"
            ],
            "text/plain": [
              "<IPython.core.display.HTML object>"
            ]
          },
          "metadata": {
            "tags": []
          }
        }
      ]
    },
    {
      "cell_type": "code",
      "metadata": {
        "id": "_94xnqPmWc-O",
        "colab_type": "code",
        "outputId": "795fde52-7468-460e-8d41-2ad02769fdfc",
        "colab": {
          "base_uri": "https://localhost:8080/",
          "height": 88
        }
      },
      "source": [
        "import tensorflow.compat.v1 as tf\n",
        "tf.disable_v2_behavior()"
      ],
      "execution_count": 0,
      "outputs": [
        {
          "output_type": "stream",
          "text": [
            "WARNING:tensorflow:From /usr/local/lib/python3.6/dist-packages/tensorflow_core/python/compat/v2_compat.py:68: disable_resource_variables (from tensorflow.python.ops.variable_scope) is deprecated and will be removed in a future version.\n",
            "Instructions for updating:\n",
            "non-resource variables are not supported in the long term\n"
          ],
          "name": "stdout"
        }
      ]
    },
    {
      "cell_type": "code",
      "metadata": {
        "id": "JywMWpdKW7Nc",
        "colab_type": "code",
        "outputId": "3b48c222-a49d-4aa5-83fa-dc80f4acdac6",
        "colab": {
          "base_uri": "https://localhost:8080/",
          "height": 34
        }
      },
      "source": [
        "mnist"
      ],
      "execution_count": 0,
      "outputs": [
        {
          "output_type": "execute_result",
          "data": {
            "text/plain": [
              "<module 'keras.datasets.mnist' from '/usr/local/lib/python3.6/dist-packages/keras/datasets/mnist.py'>"
            ]
          },
          "metadata": {
            "tags": []
          },
          "execution_count": 4
        }
      ]
    },
    {
      "cell_type": "code",
      "metadata": {
        "id": "eWLdi7DgXP9K",
        "colab_type": "code",
        "outputId": "77f25ec2-0ce3-4909-9626-b06fa3079545",
        "colab": {
          "base_uri": "https://localhost:8080/",
          "height": 51
        }
      },
      "source": [
        "(train_images, train_labels), (test_images, test_labels) = mnist.load_data()"
      ],
      "execution_count": 0,
      "outputs": [
        {
          "output_type": "stream",
          "text": [
            "Downloading data from https://s3.amazonaws.com/img-datasets/mnist.npz\n",
            "11493376/11490434 [==============================] - 0s 0us/step\n"
          ],
          "name": "stdout"
        }
      ]
    },
    {
      "cell_type": "code",
      "metadata": {
        "id": "cvXSGviSXW-v",
        "colab_type": "code",
        "outputId": "e28f3feb-7c70-4adf-9c74-07c25262442d",
        "colab": {
          "base_uri": "https://localhost:8080/",
          "height": 34
        }
      },
      "source": [
        "print(train_images[4].shape)"
      ],
      "execution_count": 0,
      "outputs": [
        {
          "output_type": "stream",
          "text": [
            "(28, 28)\n"
          ],
          "name": "stdout"
        }
      ]
    },
    {
      "cell_type": "code",
      "metadata": {
        "id": "IedWSt58XlQq",
        "colab_type": "code",
        "outputId": "99501139-1192-40ab-b043-52f0ed75a6c4",
        "colab": {
          "base_uri": "https://localhost:8080/",
          "height": 1000
        }
      },
      "source": [
        "for i in range(5, 20, 4):\n",
        "    plt.imshow(train_images[i], cmap=plt.cm.binary)\n",
        "    plt.show()\n",
        "    print('Label = ' + str(train_labels[i]))"
      ],
      "execution_count": 0,
      "outputs": [
        {
          "output_type": "display_data",
          "data": {
            "image/png": "[encoded data removed]",
            "text/plain": [
              "<Figure size 432x288 with 1 Axes>"
            ]
          },
          "metadata": {
            "tags": []
          }
        },
        {
          "output_type": "stream",
          "text": [
            "Label = 2\n"
          ],
          "name": "stdout"
        },
        {
          "output_type": "display_data",
          "data": {
            "image/png": "[encoded data removed]",
            "text/plain": [
              "<Figure size 432x288 with 1 Axes>"
            ]
          },
          "metadata": {
            "tags": []
          }
        },
        {
          "output_type": "stream",
          "text": [
            "Label = 4\n"
          ],
          "name": "stdout"
        },
        {
          "output_type": "display_data",
          "data": {
            "image/png": "[encoded data removed]",
            "text/plain": [
              "<Figure size 432x288 with 1 Axes>"
            ]
          },
          "metadata": {
            "tags": []
          }
        },
        {
          "output_type": "stream",
          "text": [
            "Label = 6\n"
          ],
          "name": "stdout"
        },
        {
          "output_type": "display_data",
          "data": {
            "image/png": "[encoded data removed]",
            "text/plain": [
              "<Figure size 432x288 with 1 Axes>"
            ]
          },
          "metadata": {
            "tags": []
          }
        },
        {
          "output_type": "stream",
          "text": [
            "Label = 8\n"
          ],
          "name": "stdout"
        }
      ]
    },
    {
      "cell_type": "code",
      "metadata": {
        "id": "O2jdIAtqXp5G",
        "colab_type": "code",
        "outputId": "05a1aaed-2a43-4113-ca5d-0f88bca4687f",
        "colab": {
          "base_uri": "https://localhost:8080/",
          "height": 68
        }
      },
      "source": [
        "print(train_images.shape, train_labels.shape)\n",
        "train_images = train_images.reshape((60000, 28*28)).astype('float32')/255\n",
        "print(train_images.shape)\n",
        "print(train_images.dtype)"
      ],
      "execution_count": 0,
      "outputs": [
        {
          "output_type": "stream",
          "text": [
            "(60000, 28, 28) (60000,)\n",
            "(60000, 784)\n",
            "float32\n"
          ],
          "name": "stdout"
        }
      ]
    },
    {
      "cell_type": "code",
      "metadata": {
        "id": "0UWYIJ7NXuVc",
        "colab_type": "code",
        "outputId": "a8efa111-3a81-4028-bd21-d522159ec2f3",
        "colab": {
          "base_uri": "https://localhost:8080/",
          "height": 51
        }
      },
      "source": [
        "print(test_images.shape, test_labels.shape)\n",
        "test_images = test_images.reshape((10000, 28*28)).astype('float32')/255\n",
        "print(test_images.shape)"
      ],
      "execution_count": 0,
      "outputs": [
        {
          "output_type": "stream",
          "text": [
            "(10000, 28, 28) (10000,)\n",
            "(10000, 784)\n"
          ],
          "name": "stdout"
        }
      ]
    },
    {
      "cell_type": "code",
      "metadata": {
        "id": "r76CW8AsXzim",
        "colab_type": "code",
        "outputId": "d4fbec00-bebd-4cbe-9de7-f0a343bcc9da",
        "colab": {
          "base_uri": "https://localhost:8080/",
          "height": 34
        }
      },
      "source": [
        "print(train_labels[5:,])"
      ],
      "execution_count": 0,
      "outputs": [
        {
          "output_type": "stream",
          "text": [
            "[2 1 3 ... 5 6 8]\n"
          ],
          "name": "stdout"
        }
      ]
    },
    {
      "cell_type": "code",
      "metadata": {
        "id": "kPbuo9nJX3Nb",
        "colab_type": "code",
        "outputId": "bbb772a2-c18f-401c-b4f9-70f8d1193810",
        "colab": {
          "base_uri": "https://localhost:8080/",
          "height": 136
        }
      },
      "source": [
        "train_labels = ku.to_categorical(train_labels)\n",
        "print(train_labels[5:,])"
      ],
      "execution_count": 0,
      "outputs": [
        {
          "output_type": "stream",
          "text": [
            "[[0. 0. 1. ... 0. 0. 0.]\n",
            " [0. 1. 0. ... 0. 0. 0.]\n",
            " [0. 0. 0. ... 0. 0. 0.]\n",
            " ...\n",
            " [0. 0. 0. ... 0. 0. 0.]\n",
            " [0. 0. 0. ... 0. 0. 0.]\n",
            " [0. 0. 0. ... 0. 1. 0.]]\n"
          ],
          "name": "stdout"
        }
      ]
    },
    {
      "cell_type": "code",
      "metadata": {
        "id": "w8SJpgkmX7yJ",
        "colab_type": "code",
        "colab": {}
      },
      "source": [
        "test_labels = ku.to_categorical(test_labels)"
      ],
      "execution_count": 0,
      "outputs": []
    },
    {
      "cell_type": "code",
      "metadata": {
        "id": "SFtYzlUZYANs",
        "colab_type": "code",
        "outputId": "256cfe5e-e65f-412a-d3d5-5223932401d1",
        "colab": {
          "base_uri": "https://localhost:8080/",
          "height": 119
        }
      },
      "source": [
        "nn = models.Sequential()\n",
        "nn.add(layers.Dense(512, activation = 'relu', input_shape = (28*28, )))\n",
        "nn.add(layers.Dense(10, activation = 'softmax'))"
      ],
      "execution_count": 0,
      "outputs": [
        {
          "output_type": "stream",
          "text": [
            "WARNING:tensorflow:From /usr/local/lib/python3.6/dist-packages/keras/backend/tensorflow_backend.py:66: The name tf.get_default_graph is deprecated. Please use tf.compat.v1.get_default_graph instead.\n",
            "\n",
            "WARNING:tensorflow:From /usr/local/lib/python3.6/dist-packages/keras/backend/tensorflow_backend.py:541: The name tf.placeholder is deprecated. Please use tf.compat.v1.placeholder instead.\n",
            "\n",
            "WARNING:tensorflow:From /usr/local/lib/python3.6/dist-packages/keras/backend/tensorflow_backend.py:4432: The name tf.random_uniform is deprecated. Please use tf.random.uniform instead.\n",
            "\n"
          ],
          "name": "stdout"
        }
      ]
    },
    {
      "cell_type": "code",
      "metadata": {
        "id": "-hb2RsCrYEA-",
        "colab_type": "code",
        "outputId": "47d09974-a379-40d4-b5a8-64f13eb5c8f1",
        "colab": {
          "base_uri": "https://localhost:8080/",
          "height": 85
        }
      },
      "source": [
        "nn.compile(optimizer = 'rmsprop', loss = 'categorical_crossentropy', metrics = ['accuracy'])"
      ],
      "execution_count": 0,
      "outputs": [
        {
          "output_type": "stream",
          "text": [
            "WARNING:tensorflow:From /usr/local/lib/python3.6/dist-packages/keras/optimizers.py:793: The name tf.train.Optimizer is deprecated. Please use tf.compat.v1.train.Optimizer instead.\n",
            "\n",
            "WARNING:tensorflow:From /usr/local/lib/python3.6/dist-packages/keras/backend/tensorflow_backend.py:3576: The name tf.log is deprecated. Please use tf.math.log instead.\n",
            "\n"
          ],
          "name": "stdout"
        }
      ]
    },
    {
      "cell_type": "code",
      "metadata": {
        "id": "EaIGy7rMYKlg",
        "colab_type": "code",
        "outputId": "dfc7d8eb-8441-4cd0-f40c-8f7b7bd3c8c7",
        "colab": {
          "base_uri": "https://localhost:8080/",
          "height": 527
        }
      },
      "source": [
        "nn.fit(train_images, train_labels, epochs = 5, batch_size = 128)"
      ],
      "execution_count": 0,
      "outputs": [
        {
          "output_type": "stream",
          "text": [
            "WARNING:tensorflow:From /usr/local/lib/python3.6/dist-packages/tensorflow_core/python/ops/math_grad.py:1424: where (from tensorflow.python.ops.array_ops) is deprecated and will be removed in a future version.\n",
            "Instructions for updating:\n",
            "Use tf.where in 2.0, which has the same broadcast rule as np.where\n",
            "WARNING:tensorflow:From /usr/local/lib/python3.6/dist-packages/keras/backend/tensorflow_backend.py:1033: The name tf.assign_add is deprecated. Please use tf.compat.v1.assign_add instead.\n",
            "\n",
            "WARNING:tensorflow:From /usr/local/lib/python3.6/dist-packages/keras/backend/tensorflow_backend.py:1020: The name tf.assign is deprecated. Please use tf.compat.v1.assign instead.\n",
            "\n",
            "WARNING:tensorflow:From /usr/local/lib/python3.6/dist-packages/keras/backend/tensorflow_backend.py:3005: The name tf.Session is deprecated. Please use tf.compat.v1.Session instead.\n",
            "\n",
            "Epoch 1/5\n",
            "WARNING:tensorflow:From /usr/local/lib/python3.6/dist-packages/keras/backend/tensorflow_backend.py:190: The name tf.get_default_session is deprecated. Please use tf.compat.v1.get_default_session instead.\n",
            "\n",
            "WARNING:tensorflow:From /usr/local/lib/python3.6/dist-packages/keras/backend/tensorflow_backend.py:197: The name tf.ConfigProto is deprecated. Please use tf.compat.v1.ConfigProto instead.\n",
            "\n",
            "WARNING:tensorflow:From /usr/local/lib/python3.6/dist-packages/keras/backend/tensorflow_backend.py:207: The name tf.global_variables is deprecated. Please use tf.compat.v1.global_variables instead.\n",
            "\n",
            "WARNING:tensorflow:From /usr/local/lib/python3.6/dist-packages/keras/backend/tensorflow_backend.py:216: The name tf.is_variable_initialized is deprecated. Please use tf.compat.v1.is_variable_initialized instead.\n",
            "\n",
            "WARNING:tensorflow:From /usr/local/lib/python3.6/dist-packages/keras/backend/tensorflow_backend.py:223: The name tf.variables_initializer is deprecated. Please use tf.compat.v1.variables_initializer instead.\n",
            "\n",
            "60000/60000 [==============================] - 5s 89us/step - loss: 0.2615 - acc: 0.9238\n",
            "Epoch 2/5\n",
            "60000/60000 [==============================] - 5s 77us/step - loss: 0.1062 - acc: 0.9693\n",
            "Epoch 3/5\n",
            "60000/60000 [==============================] - 5s 78us/step - loss: 0.0708 - acc: 0.9785\n",
            "Epoch 4/5\n",
            "60000/60000 [==============================] - 5s 77us/step - loss: 0.0516 - acc: 0.9841\n",
            "Epoch 5/5\n",
            "60000/60000 [==============================] - 5s 77us/step - loss: 0.0397 - acc: 0.9878\n"
          ],
          "name": "stdout"
        },
        {
          "output_type": "execute_result",
          "data": {
            "text/plain": [
              "<keras.callbacks.History at 0x7f410606d128>"
            ]
          },
          "metadata": {
            "tags": []
          },
          "execution_count": 15
        }
      ]
    },
    {
      "cell_type": "markdown",
      "metadata": {
        "id": "2i3n7QdTbF6R",
        "colab_type": "text"
      },
      "source": [
        ""
      ]
    },
    {
      "cell_type": "code",
      "metadata": {
        "id": "__TiKfzJYOZD",
        "colab_type": "code",
        "colab": {}
      },
      "source": [
        ""
      ],
      "execution_count": 0,
      "outputs": []
    },
    {
      "cell_type": "markdown",
      "metadata": {
        "id": "bwz4x-JiaK-_",
        "colab_type": "text"
      },
      "source": [
        "Notice that the loss declines and the accuracy increases with each training epoch. However, since neural networks tend to be overfit, these improved figures may or may not indicate that the model is actually getting better. Keep in mind that the model may simple be learning the training data.\n",
        "\n",
        "It is necessary to test the model on independent data set. The evaluate method allows you to do just this.Execute the code in the cell below and compair the results to training results.\n",
        "\n",
        "---\n",
        "\n",
        "\n",
        "\n",
        "---\n",
        "\n"
      ]
    },
    {
      "cell_type": "markdown",
      "metadata": {
        "id": "eimeL8WlZ8gB",
        "colab_type": "text"
      },
      "source": [
        ""
      ]
    },
    {
      "cell_type": "code",
      "metadata": {
        "id": "PCoEAYO8bUzi",
        "colab_type": "code",
        "outputId": "390bfe76-1da7-4d7c-e130-075e0a61f050",
        "colab": {
          "base_uri": "https://localhost:8080/",
          "height": 51
        }
      },
      "source": [
        "nn.evaluate(test_images, test_labels)"
      ],
      "execution_count": 0,
      "outputs": [
        {
          "output_type": "stream",
          "text": [
            "10000/10000 [==============================] - 1s 51us/step\n"
          ],
          "name": "stdout"
        },
        {
          "output_type": "execute_result",
          "data": {
            "text/plain": [
              "[0.07166502535903128, 0.9791]"
            ]
          },
          "metadata": {
            "tags": []
          },
          "execution_count": 16
        }
      ]
    },
    {
      "cell_type": "code",
      "metadata": {
        "id": "fT4TXP7Sbins",
        "colab_type": "code",
        "colab": {}
      },
      "source": [
        ""
      ],
      "execution_count": 0,
      "outputs": []
    },
    {
      "cell_type": "markdown",
      "metadata": {
        "id": "Iv2F-1zVbp8-",
        "colab_type": "text"
      },
      "source": [
        "It is clear that the model is over-fit since the evaluation loss and accuracy are quite a bit worse than observed in training."
      ]
    },
    {
      "cell_type": "code",
      "metadata": {
        "id": "LK7sWN5eb4Ni",
        "colab_type": "code",
        "outputId": "565d0f9f-e4f0-4313-ca6e-ac4106067b03",
        "colab": {
          "base_uri": "https://localhost:8080/",
          "height": 544
        }
      },
      "source": [
        "nnt = models.Sequential()\n",
        "nnt.add(layers.Dense(512, activation = 'relu', input_shape = (28*28, )))\n",
        "nnt.add(layers.Dense(10, activation = 'softmax'))\n",
        "nnt.compile(optimizer = 'rmsprop', loss = 'categorical_crossentropy',\n",
        "            metrics = ['accuracy'])\n",
        "history = nnt.fit(train_images, train_labels,\n",
        "                  epochs = 15, batch_size = 128,\n",
        "                  validation_data = (test_images, test_labels))"
      ],
      "execution_count": 0,
      "outputs": [
        {
          "output_type": "stream",
          "text": [
            "Train on 60000 samples, validate on 10000 samples\n",
            "Epoch 1/15\n",
            "60000/60000 [==============================] - 5s 84us/step - loss: 0.2662 - acc: 0.9223 - val_loss: 0.1407 - val_acc: 0.9572\n",
            "Epoch 2/15\n",
            "60000/60000 [==============================] - 5s 81us/step - loss: 0.1101 - acc: 0.9673 - val_loss: 0.0995 - val_acc: 0.9666\n",
            "Epoch 3/15\n",
            "60000/60000 [==============================] - 5s 80us/step - loss: 0.0726 - acc: 0.9781 - val_loss: 0.0797 - val_acc: 0.9746\n",
            "Epoch 4/15\n",
            "60000/60000 [==============================] - 5s 83us/step - loss: 0.0530 - acc: 0.9839 - val_loss: 0.0751 - val_acc: 0.9782\n",
            "Epoch 5/15\n",
            "60000/60000 [==============================] - 5s 84us/step - loss: 0.0405 - acc: 0.9877 - val_loss: 0.0675 - val_acc: 0.9802\n",
            "Epoch 6/15\n",
            "60000/60000 [==============================] - 5s 84us/step - loss: 0.0311 - acc: 0.9907 - val_loss: 0.0785 - val_acc: 0.9762\n",
            "Epoch 7/15\n",
            "60000/60000 [==============================] - 5s 82us/step - loss: 0.0238 - acc: 0.9930 - val_loss: 0.0683 - val_acc: 0.9790\n",
            "Epoch 8/15\n",
            "60000/60000 [==============================] - 5s 83us/step - loss: 0.0187 - acc: 0.9947 - val_loss: 0.0669 - val_acc: 0.9827\n",
            "Epoch 9/15\n",
            "60000/60000 [==============================] - 5s 83us/step - loss: 0.0148 - acc: 0.9956 - val_loss: 0.0693 - val_acc: 0.9822\n",
            "Epoch 10/15\n",
            "60000/60000 [==============================] - 5s 82us/step - loss: 0.0115 - acc: 0.9965 - val_loss: 0.0668 - val_acc: 0.9828\n",
            "Epoch 11/15\n",
            "60000/60000 [==============================] - 5s 82us/step - loss: 0.0096 - acc: 0.9972 - val_loss: 0.0891 - val_acc: 0.9768\n",
            "Epoch 12/15\n",
            "60000/60000 [==============================] - 5s 82us/step - loss: 0.0068 - acc: 0.9982 - val_loss: 0.0740 - val_acc: 0.9822\n",
            "Epoch 13/15\n",
            "60000/60000 [==============================] - 5s 82us/step - loss: 0.0060 - acc: 0.9984 - val_loss: 0.0798 - val_acc: 0.9805\n",
            "Epoch 14/15\n",
            "60000/60000 [==============================] - 5s 82us/step - loss: 0.0044 - acc: 0.9989 - val_loss: 0.0755 - val_acc: 0.9826\n",
            "Epoch 15/15\n",
            "60000/60000 [==============================] - 5s 83us/step - loss: 0.0041 - acc: 0.9990 - val_loss: 0.0904 - val_acc: 0.9795\n"
          ],
          "name": "stdout"
        }
      ]
    },
    {
      "cell_type": "code",
      "metadata": {
        "id": "5MUi7_BEdGKS",
        "colab_type": "code",
        "colab": {}
      },
      "source": [
        ""
      ],
      "execution_count": 0,
      "outputs": []
    },
    {
      "cell_type": "markdown",
      "metadata": {
        "id": "kyuWW6gfekQv",
        "colab_type": "text"
      },
      "source": [
        "To aid in understanding these figures it will help to make some plots comparing the training and evaluation performance as the training epochs evolve. The code in the next two cells does this is a somewhat primitive manner. The Numpy array is manually adited to include the training loass and training accuracy.\n",
        "The plot_loss and plot_performance functions in the next two cell plot the training loss or accuracy in blue and the test loss or accuracy in red. Execute the code and examine the plots."
      ]
    },
    {
      "cell_type": "code",
      "metadata": {
        "id": "pJsmAdKbfZa6",
        "colab_type": "code",
        "outputId": "78206bb1-61c8-4776-cbc8-cbaee32fa1ae",
        "colab": {
          "base_uri": "https://localhost:8080/",
          "height": 295
        }
      },
      "source": [
        "def plot_loss(history):\n",
        "  train_loss = history.history['loss']\n",
        "  test_loss = history.history['val_loss']\n",
        "  x = list(range(1, len(test_loss) + 1))\n",
        "  plt.plot(x, test_loss, color = 'red', label = 'test loss')\n",
        "  plt.plot(x, train_loss, label = 'training loss')\n",
        "  plt.xlabel('Epoch')\n",
        "  plt.ylabel('Loss')\n",
        "  plt.title('Loss vs. Epoch')\n",
        "  plt.legend()\n",
        "\n",
        "plot_loss(history)"
      ],
      "execution_count": 0,
      "outputs": [
        {
          "output_type": "display_data",
          "data": {
            "image/png": "[encoded data removed]",
            "text/plain": [
              "<Figure size 432x288 with 1 Axes>"
            ]
          },
          "metadata": {
            "tags": []
          }
        }
      ]
    },
    {
      "cell_type": "code",
      "metadata": {
        "id": "B70bINmZfaVu",
        "colab_type": "code",
        "outputId": "6ae8cc87-b5a1-417a-946c-81be0908cae2",
        "colab": {
          "base_uri": "https://localhost:8080/",
          "height": 295
        }
      },
      "source": [
        "def plot_accuracy(history):\n",
        "  train_acc = history.history['acc']\n",
        "  test_acc = history.history['val_acc']\n",
        "  x = list(range(1, len(test_acc) + 1))\n",
        "  plt.plot(x, test_acc, color = 'red', label = 'test accuracy')\n",
        "  plt.plot(x, train_acc, label = 'training accuracy')\n",
        "  plt.xlabel('Epoch')\n",
        "  plt.ylabel('Accuracy')\n",
        "  plt.title('Accuracy vs. Epoch')\n",
        "  plt.legend(loc='lower right')\n",
        "\n",
        "plot_accuracy(history)"
      ],
      "execution_count": 0,
      "outputs": [
        {
          "output_type": "display_data",
          "data": {
            "image/png": "[encoded data removed]",
            "text/plain": [
              "<Figure size 432x288 with 1 Axes>"
            ]
          },
          "metadata": {
            "tags": []
          }
        }
      ]
    },
    {
      "cell_type": "markdown",
      "metadata": {
        "id": "h2JArKD5bp9S",
        "colab_type": "text"
      },
      "source": [
        "Notice that the training loss and accuracy continue to improve throughout the epochs. However, the evaluation loss and accuracy only improve significantly for the first four, or perhaps 5, epochs. This is clear evidence that subsequent epochs are simply over-fitting the model."
      ]
    },
    {
      "cell_type": "code",
      "metadata": {
        "id": "nghClUA-aj5Y",
        "colab_type": "code",
        "outputId": "d3710efa-60f0-4dfb-b6a0-d09ca2a436a8",
        "colab": {
          "base_uri": "https://localhost:8080/",
          "height": 374
        }
      },
      "source": [
        "nnt = models.Sequential()\n",
        "nnt.add(layers.Dense(512, activation = 'relu', input_shape = (28*28, ),\n",
        "                     kernel_regularizer=regularizers.l2(0.01)))#\n",
        "nnt.add(layers.Dense(10, activation = 'softmax'))\n",
        "nnt.compile(optimizer = 'rmsprop', loss = 'categorical_crossentropy', metrics = ['accuracy'])\n",
        "\n",
        "history = nnt.fit(train_images, train_labels,\n",
        "                  epochs = 10, batch_size = 128,\n",
        "                  validation_data = (test_images, test_labels))"
      ],
      "execution_count": 0,
      "outputs": [
        {
          "output_type": "stream",
          "text": [
            "Train on 60000 samples, validate on 10000 samples\n",
            "Epoch 1/10\n",
            "60000/60000 [==============================] - 6s 99us/step - loss: 0.9290 - acc: 0.8848 - val_loss: 0.4553 - val_acc: 0.9178\n",
            "Epoch 2/10\n",
            "60000/60000 [==============================] - 6s 94us/step - loss: 0.4366 - acc: 0.9188 - val_loss: 0.5536 - val_acc: 0.8717\n",
            "Epoch 3/10\n",
            "60000/60000 [==============================] - 6s 95us/step - loss: 0.3897 - acc: 0.9294 - val_loss: 0.3802 - val_acc: 0.9318\n",
            "Epoch 4/10\n",
            "60000/60000 [==============================] - 6s 93us/step - loss: 0.3623 - acc: 0.9346 - val_loss: 0.5654 - val_acc: 0.8682\n",
            "Epoch 5/10\n",
            "60000/60000 [==============================] - 6s 93us/step - loss: 0.3439 - acc: 0.9387 - val_loss: 0.3071 - val_acc: 0.9473\n",
            "Epoch 6/10\n",
            "60000/60000 [==============================] - 6s 94us/step - loss: 0.3283 - acc: 0.9426 - val_loss: 0.2997 - val_acc: 0.9532\n",
            "Epoch 7/10\n",
            "60000/60000 [==============================] - 6s 92us/step - loss: 0.3157 - acc: 0.9450 - val_loss: 0.2904 - val_acc: 0.9492\n",
            "Epoch 8/10\n",
            "60000/60000 [==============================] - 6s 93us/step - loss: 0.3081 - acc: 0.9451 - val_loss: 0.2598 - val_acc: 0.9625\n",
            "Epoch 9/10\n",
            "60000/60000 [==============================] - 6s 93us/step - loss: 0.2977 - acc: 0.9484 - val_loss: 0.2665 - val_acc: 0.9570\n",
            "Epoch 10/10\n",
            "60000/60000 [==============================] - 5s 92us/step - loss: 0.2903 - acc: 0.9489 - val_loss: 0.2548 - val_acc: 0.9609\n"
          ],
          "name": "stdout"
        }
      ]
    },
    {
      "cell_type": "markdown",
      "metadata": {
        "id": "mikH5a1pfhpH",
        "colab_type": "text"
      },
      "source": [
        "Once again, we can best understand these results by creating plots of the loss and accuracy for training and evaluation vs. epoch. Execute the code in the two cells below to display these plots and study the results."
      ]
    },
    {
      "cell_type": "code",
      "metadata": {
        "id": "zCb1xgDkgO6W",
        "colab_type": "code",
        "outputId": "ac17875d-a107-444b-9029-b27c171340ce",
        "colab": {
          "base_uri": "https://localhost:8080/",
          "height": 295
        }
      },
      "source": [
        "plot_loss(history)"
      ],
      "execution_count": 0,
      "outputs": [
        {
          "output_type": "display_data",
          "data": {
            "image/png": "[encoded data removed]",
            "text/plain": [
              "<Figure size 432x288 with 1 Axes>"
            ]
          },
          "metadata": {
            "tags": []
          }
        }
      ]
    },
    {
      "cell_type": "code",
      "metadata": {
        "id": "YeBmDadGgKQM",
        "colab_type": "code",
        "outputId": "7a0bf9bf-a993-4073-c7e4-d5314dd55073",
        "colab": {
          "base_uri": "https://localhost:8080/",
          "height": 295
        }
      },
      "source": [
        "plot_accuracy(history)"
      ],
      "execution_count": 0,
      "outputs": [
        {
          "output_type": "display_data",
          "data": {
            "image/png": "[encoded data removed]",
            "text/plain": [
              "<Figure size 432x288 with 1 Axes>"
            ]
          },
          "metadata": {
            "tags": []
          }
        }
      ]
    },
    {
      "cell_type": "code",
      "metadata": {
        "id": "0teG2iP6gjR0",
        "colab_type": "code",
        "colab": {}
      },
      "source": [
        " "
      ],
      "execution_count": 0,
      "outputs": []
    }
  ]
}