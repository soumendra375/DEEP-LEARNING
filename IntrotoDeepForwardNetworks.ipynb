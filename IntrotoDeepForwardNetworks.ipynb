{
  "nbformat": 4,
  "nbformat_minor": 0,
  "metadata": {
    "colab": {
      "name": "IntrotoDeepForwardNetworks.ipynb",
      "provenance": [],
      "authorship_tag": "ABX9TyNsmKbmBu9xGidrsJyw3f0X",
      "include_colab_link": true
    },
    "kernelspec": {
      "name": "python3",
      "display_name": "Python 3"
    }
  },
  "cells": [
    {
      "cell_type": "markdown",
      "metadata": {
        "id": "view-in-github",
        "colab_type": "text"
      },
      "source": [
        "<a href=\"https://colab.research.google.com/github/soumendra375/DEEP-LEARNING/blob/master/IntrotoDeepForwardNetworks.ipynb\" target=\"_parent\"><img src=\"https://colab.research.google.com/assets/colab-badge.svg\" alt=\"Open In Colab\"/></a>"
      ]
    },
    {
      "cell_type": "code",
      "metadata": {
        "id": "x19i0T6fmByl",
        "colab_type": "code",
        "colab": {
          "base_uri": "https://localhost:8080/",
          "height": 241
        },
        "outputId": "fd76284b-10e5-4ec9-e221-c780a16eda40"
      },
      "source": [
        "%matplotlib inline\n",
        "import matplotlib.pyplot as plt\n",
        "import seaborn as sns\n",
        "## Compute the rectilinear Function\n",
        "def reclu(x): return(max(0,x))\n",
        "x = [float(x)/100 for x in range(-100,100)]\n",
        "y = [reclu(y) for y in x]\n",
        "## Plot the result\n",
        "def plot_figs(x,y,title, figsize = (4, 3)):\n",
        "  plt.figure(figsize=figsize).gca() # define axis\n",
        "  sns.set_style(\"darkgrid\")\n",
        "  plt.plot(x,y)\n",
        "  plt.ylim((-0.1,1.0))\n",
        "  plt.title(title)\n",
        "  plt.xlabel('X')\n",
        "  plt.ylabel('Y')\n",
        "plot_figs(x,y,'The Rectilinear Function')"
      ],
      "execution_count": 1,
      "outputs": [
        {
          "output_type": "display_data",
          "data": {
            "image/png": "[encoded data removed]",
            "text/plain": [
              "<Figure size 288x216 with 1 Axes>"
            ]
          },
          "metadata": {
            "tags": []
          }
        }
      ]
    },
    {
      "cell_type": "markdown",
      "metadata": {
        "id": "dmnjpqBQpljD",
        "colab_type": "text"
      },
      "source": [
        "Computational example"
      ]
    },
    {
      "cell_type": "markdown",
      "metadata": {
        "id": "L5YRhcJ2r5Gg",
        "colab_type": "text"
      },
      "source": [
        "Now that we have gone through some basic theory for feed-forward networks, let's try a simple example. We will construct a fully connected network to compute this simple function:\n",
        "                                                                                                y = x1 - x2\n",
        "Comment. You have likely have noticed that this function is linear and can be computed easily without a neural network. Of course, that is not the point. We use a simple function to make the results easy to understand.\n",
        "Note. The neural network for this example does not require any bias terms.\n",
        "\n",
        "As a first step, we will create test data for 3 cases; x1 > x2, x1 = x2, and x1<x2 "
      ]
    },
    {
      "cell_type": "code",
      "metadata": {
        "id": "PDJtAemkr_S6",
        "colab_type": "code",
        "colab": {
          "base_uri": "https://localhost:8080/",
          "height": 68
        },
        "outputId": "b449616b-2bda-4a3f-8f91-099a887aa578"
      },
      "source": [
        "x = [(2,1), (1,1), (1,2)]\n",
        "for x_in in x:\n",
        "  print(x_in[0] - x_in[1])"
      ],
      "execution_count": 3,
      "outputs": [
        {
          "output_type": "stream",
          "text": [
            "1\n",
            "0\n",
            "-1\n"
          ],
          "name": "stdout"
        }
      ]
    },
    {
      "cell_type": "markdown",
      "metadata": {
        "id": "BomM_qHrsclS",
        "colab_type": "text"
      },
      "source": [
        "Now that we have our test data and test cases we can move to the next step. We will create the first weight matrix"
      ]
    },
    {
      "cell_type": "code",
      "metadata": {
        "id": "hAqQVQHrsaZU",
        "colab_type": "code",
        "colab": {
          "base_uri": "https://localhost:8080/",
          "height": 51
        },
        "outputId": "98a07598-52af-41b3-84f6-8f421dbe1eff"
      },
      "source": [
        "import numpy as np\n",
        "W_1 = np.array([[1.0, -1.0], [-1.0, 1.0]])\n",
        "print(W_1)"
      ],
      "execution_count": 4,
      "outputs": [
        {
          "output_type": "stream",
          "text": [
            "[[ 1. -1.]\n",
            " [-1.  1.]]\n"
          ],
          "name": "stdout"
        }
      ]
    },
    {
      "cell_type": "markdown",
      "metadata": {
        "id": "E2u6OYkSs-NI",
        "colab_type": "text"
      },
      "source": [
        "We also need the weight vector, for the second set of weights."
      ]
    },
    {
      "cell_type": "code",
      "metadata": {
        "id": "Bj668XLvs2cP",
        "colab_type": "code",
        "colab": {
          "base_uri": "https://localhost:8080/",
          "height": 34
        },
        "outputId": "59dbe80a-8087-4248-9573-de8cd9b8d1a9"
      },
      "source": [
        "W_2 = np.array([1, -1])\n",
        "print(W_2)"
      ],
      "execution_count": 5,
      "outputs": [
        {
          "output_type": "stream",
          "text": [
            "[ 1 -1]\n"
          ],
          "name": "stdout"
        }
      ]
    },
    {
      "cell_type": "markdown",
      "metadata": {
        "id": "ukehe5ZstYlk",
        "colab_type": "text"
      },
      "source": [
        "We have the input cases and the network weights.\n",
        "Now, it is time to compute the results and check them. To create the computational process we will follow the graph "
      ]
    },
    {
      "cell_type": "code",
      "metadata": {
        "id": "Biq__YUrtLmw",
        "colab_type": "code",
        "colab": {
          "base_uri": "https://localhost:8080/",
          "height": 68
        },
        "outputId": "ee8fb3ae-40b0-4199-e6de-475cdf64ac48"
      },
      "source": [
        "def hidden(x, W):\n",
        "  \"\"\"Computes the output of the hidden layer\"\"\"\n",
        "  h = np.dot(W, x) # product of weights and input vector\n",
        "  return np.array([reclu(x) for x in h]) # apply activation function and return\n",
        "\n",
        "def output(h, W):\n",
        "  \"\"\"Computes the result for the hidden layer\"\"\"\n",
        "  return np.dot(W, h) # dot product of weight vector and input vector\n",
        "\n",
        "## Run the test cases and check the results\n",
        "for y in x:\n",
        "      h = hidden(y, W_1)\n",
        "      print(output(h, W_2))"
      ],
      "execution_count": 6,
      "outputs": [
        {
          "output_type": "stream",
          "text": [
            "1.0\n",
            "0\n",
            "-1.0\n"
          ],
          "name": "stdout"
        }
      ]
    },
    {
      "cell_type": "code",
      "metadata": {
        "id": "fiBqHMfEu3id",
        "colab_type": "code",
        "colab": {}
      },
      "source": [
        ""
      ],
      "execution_count": 0,
      "outputs": []
    }
  ]
}