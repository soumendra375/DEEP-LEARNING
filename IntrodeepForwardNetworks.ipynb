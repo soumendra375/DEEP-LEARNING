{
  "nbformat": 4,
  "nbformat_minor": 0,
  "metadata": {
    "colab": {
      "name": "IntrodeepForwardNetworks.ipynb",
      "provenance": [],
      "authorship_tag": "ABX9TyMyWjN0vlDpCr9VBgqE+OjK",
      "include_colab_link": true
    },
    "kernelspec": {
      "name": "python3",
      "display_name": "Python 3"
    }
  },
  "cells": [
    {
      "cell_type": "markdown",
      "metadata": {
        "id": "view-in-github",
        "colab_type": "text"
      },
      "source": [
        "<a href=\"https://colab.research.google.com/github/soumendra375/DEEP-LEARNING/blob/master/IntrodeepForwardNetworks.ipynb\" target=\"_parent\"><img src=\"https://colab.research.google.com/assets/colab-badge.svg\" alt=\"Open In Colab\"/></a>"
      ]
    },
    {
      "cell_type": "markdown",
      "metadata": {
        "id": "xb7QQIvWZ7Am",
        "colab_type": "text"
      },
      "source": [
        ""
      ]
    },
    {
      "cell_type": "code",
      "metadata": {
        "id": "T8F9yK4OZ8yg",
        "colab_type": "code",
        "colab": {}
      },
      "source": [
        "%matplotlib inline\n",
        "import matplotlib.pyplot as plt\n",
        "import seaborn as sns"
      ],
      "execution_count": 0,
      "outputs": []
    },
    {
      "cell_type": "markdown",
      "metadata": {
        "id": "OJVbgBz1dVNT",
        "colab_type": "text"
      },
      "source": [
        "**RECTILINEAR FUNCTION**"
      ]
    },
    {
      "cell_type": "code",
      "metadata": {
        "id": "RyvoQrROaH8X",
        "colab_type": "code",
        "colab": {}
      },
      "source": [
        "## Compute the Rectilinear function\n",
        "def reclu(x): return(max(0,x))\n",
        "x = [float(x)/100 for x in range(-100, 100)]\n",
        "y = [reclu(y) for y in x]"
      ],
      "execution_count": 0,
      "outputs": []
    },
    {
      "cell_type": "code",
      "metadata": {
        "id": "TVyQxpHwagkC",
        "colab_type": "code",
        "colab": {
          "base_uri": "https://localhost:8080/",
          "height": 241
        },
        "outputId": "6b114a51-5bc0-48db-c006-238bd30120b4"
      },
      "source": [
        "## Plot the result\n",
        "def plot_figs(x,y,title, figsize = (4, 3)):\n",
        "  plt.figure(figsize=figsize).gca() #define axix\n",
        "  sns.set_style(\"darkgrid\")\n",
        "  plt.plot(x, y)\n",
        "  plt.ylim((-0.1,1.0))\n",
        "  plt.title(title)\n",
        "  plt.xlabel('X')\n",
        "  plt.ylabel('Y')\n",
        "plot_figs(x,y,'The Rectilinear Function')"
      ],
      "execution_count": 9,
      "outputs": [
        {
          "output_type": "display_data",
          "data": {
            "image/png": "[encoded data removed]",
            "text/plain": [
              "<Figure size 288x216 with 1 Axes>"
            ]
          },
          "metadata": {
            "tags": []
          }
        }
      ]
    },
    {
      "cell_type": "markdown",
      "metadata": {
        "id": "CqDMkc42dacw",
        "colab_type": "text"
      },
      "source": [
        "**LOGISTIC OR SIGMOID FUNCTION**"
      ]
    },
    {
      "cell_type": "code",
      "metadata": {
        "id": "8EWwhI17crMv",
        "colab_type": "code",
        "colab": {
          "base_uri": "https://localhost:8080/",
          "height": 241
        },
        "outputId": "e0a38c41-8e32-4fb4-9ad8-9e2028336e0a"
      },
      "source": [
        "from math import exp\n",
        "def sigmoid(x): return exp(x)/(1 + exp(x))\n",
        "x = [float(x)/100 for x in range(-700, 700)]\n",
        "y = [sigmoid(y) for y in x]\n",
        "plot_figs(x,y,'The Logistic Function', figsize = (5,3))"
      ],
      "execution_count": 10,
      "outputs": [
        {
          "output_type": "display_data",
          "data": {
            "image/png": "[encoded data removed]",
            "text/plain": [
              "<Figure size 360x216 with 1 Axes>"
            ]
          },
          "metadata": {
            "tags": []
          }
        }
      ]
    },
    {
      "cell_type": "markdown",
      "metadata": {
        "id": "c2F7kLfRfOIV",
        "colab_type": "text"
      },
      "source": [
        "**CONSTRUCTING A FULLY CONNECTED NETWORK**"
      ]
    },
    {
      "cell_type": "code",
      "metadata": {
        "id": "5jI3r6g-eFE9",
        "colab_type": "code",
        "colab": {
          "base_uri": "https://localhost:8080/",
          "height": 68
        },
        "outputId": "6a277588-7bf0-4912-b7ca-0b4e600f4bdd"
      },
      "source": [
        "x = [(2,1), (1,1), (1,2)]\n",
        "for x_in in x:\n",
        "  print(x_in[0] - x_in[1])"
      ],
      "execution_count": 11,
      "outputs": [
        {
          "output_type": "stream",
          "text": [
            "1\n",
            "0\n",
            "-1\n"
          ],
          "name": "stdout"
        }
      ]
    },
    {
      "cell_type": "markdown",
      "metadata": {
        "id": "aw7kAjn3fvIJ",
        "colab_type": "text"
      },
      "source": [
        "Creating the first weight tensor"
      ]
    },
    {
      "cell_type": "code",
      "metadata": {
        "id": "_fXO2gX4foXV",
        "colab_type": "code",
        "colab": {
          "base_uri": "https://localhost:8080/",
          "height": 51
        },
        "outputId": "a861e1dd-aa31-4750-c8b5-9ef42f3917c2"
      },
      "source": [
        "import numpy as np\n",
        "W_1 = np.array([[1.0, -1.0], [-1.0, 1.0]])\n",
        "print(W_1)"
      ],
      "execution_count": 12,
      "outputs": [
        {
          "output_type": "stream",
          "text": [
            "[[ 1. -1.]\n",
            " [-1.  1.]]\n"
          ],
          "name": "stdout"
        }
      ]
    },
    {
      "cell_type": "markdown",
      "metadata": {
        "id": "cNZB74hQgFDw",
        "colab_type": "text"
      },
      "source": [
        "Second set of weights"
      ]
    },
    {
      "cell_type": "code",
      "metadata": {
        "id": "tYHMcpb3f_Zr",
        "colab_type": "code",
        "colab": {
          "base_uri": "https://localhost:8080/",
          "height": 34
        },
        "outputId": "32dda39f-e8c6-43a7-8f71-80058cf4ee9a"
      },
      "source": [
        "W_2 = np.array([1, -1])\n",
        "print(W_2)"
      ],
      "execution_count": 13,
      "outputs": [
        {
          "output_type": "stream",
          "text": [
            "[ 1 -1]\n"
          ],
          "name": "stdout"
        }
      ]
    },
    {
      "cell_type": "markdown",
      "metadata": {
        "id": "L2FIGcQLgYCP",
        "colab_type": "text"
      },
      "source": [
        "We have the input test cases and the network weights. Now, it is time to compute the results and check them. The code in the cell below performs the feed forward network computation. The first function computes the matrix product of the weights with the input tensor and applies a rectilinear activation function. This function computes the output of the hidden layer given the input tensor. \n",
        "\n",
        "$$h = \\sigma(W^1 \\cdot x)$$\n",
        "\n",
        "The second function computes the vector product of the weight tensor with the output tensor of the hidden layer which is the output of the network: \n",
        "\n",
        "$$o = W^2 \\cdot h$$"
      ]
    },
    {
      "cell_type": "code",
      "metadata": {
        "id": "Faol9lBmgN22",
        "colab_type": "code",
        "colab": {
          "base_uri": "https://localhost:8080/",
          "height": 68
        },
        "outputId": "04405cea-74b4-45c3-fb66-bd7b55eefc12"
      },
      "source": [
        "def hidden(x, W):\n",
        "    \"\"\"Computes the output of the hidden layer\"\"\"\n",
        "    h = np.dot(W, x) # product of weights and input vector\n",
        "    return np.array([reclu(x) for x in h]) # apply activation function and return\n",
        "\n",
        "def output(h, W):\n",
        "    \"\"\"Computes the result for the hidden layer\"\"\"\n",
        "    return np.dot(W, h) # dot product of weight vector and input vector\n",
        "    \n",
        "## Run the test cases and check the results     \n",
        "for y in x:\n",
        "        h = hidden(y, W_1)\n",
        "        print(output(h, W_2))"
      ],
      "execution_count": 14,
      "outputs": [
        {
          "output_type": "stream",
          "text": [
            "1.0\n",
            "0\n",
            "-1.0\n"
          ],
          "name": "stdout"
        }
      ]
    },
    {
      "cell_type": "markdown",
      "metadata": {
        "id": "7wuTUDXegg1T",
        "colab_type": "text"
      },
      "source": [
        "CONNECTED NEURAL NETWORK PASSES ALL THE TESTS\n",
        "Noticing that even a network to compute a simple function requires 6 weights. You can see that for more complex functions any practical algorithm must learn a large number of weights. The limitations of Numpy would quickly become evident for large scale problems involving hundreds of millions of weights."
      ]
    },
    {
      "cell_type": "markdown",
      "metadata": {
        "id": "nADaTe2ojztj",
        "colab_type": "text"
      },
      "source": [
        "EXERCISE 1: The first simple neural network worked as intended. But, what happens if you change the activation of hidden units? In the cell below, modify the code. Use an expanded set of test cases [(3,1), (2,1), (1,1),(1,2),(1,3)]"
      ]
    },
    {
      "cell_type": "code",
      "metadata": {
        "id": "gKbP1BlwjxNf",
        "colab_type": "code",
        "colab": {}
      },
      "source": [
        "x = [(3,1), (2,1), (1,1), (1,2), (1,3)]"
      ],
      "execution_count": 0,
      "outputs": []
    },
    {
      "cell_type": "code",
      "metadata": {
        "id": "zYIkjcgHjq-f",
        "colab_type": "code",
        "colab": {}
      },
      "source": [
        ""
      ],
      "execution_count": 0,
      "outputs": []
    }
  ]
}