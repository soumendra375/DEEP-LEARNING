{
  "nbformat": 4,
  "nbformat_minor": 0,
  "metadata": {
    "colab": {
      "name": "1.Getting started with keras.ipynb",
      "provenance": [],
      "authorship_tag": "ABX9TyMQXjjSIYOua7ZKNWukeRFF",
      "include_colab_link": true
    },
    "kernelspec": {
      "name": "python3",
      "display_name": "Python 3"
    }
  },
  "cells": [
    {
      "cell_type": "markdown",
      "metadata": {
        "id": "view-in-github",
        "colab_type": "text"
      },
      "source": [
        "<a href=\"https://colab.research.google.com/github/soumendra375/DEEP-LEARNING/blob/master/1_Getting_started_with_keras.ipynb\" target=\"_parent\"><img src=\"https://colab.research.google.com/assets/colab-badge.svg\" alt=\"Open In Colab\"/></a>"
      ]
    },
    {
      "cell_type": "code",
      "metadata": {
        "id": "UCdTQRVuv-f3",
        "colab_type": "code",
        "colab": {}
      },
      "source": [
        ""
      ],
      "execution_count": 0,
      "outputs": []
    },
    {
      "cell_type": "markdown",
      "metadata": {
        "id": "u20qsz9pyACa",
        "colab_type": "text"
      },
      "source": [
        "DEEP LEARNING\n",
        "INTRODUCTION TO KERAS\n",
        "1.0 GETTING STARTED WITH KERAS\n",
        "This notebook will provide a first look at using the keras package to define, train and evaluate deep learning models with keras. By the end of this lesson you will be able to work with basic feedforward architecture multi-layer neural nets. Feedforward networks are one of a class of basic models called sequential models which are easy to define with keras. Further, some basic regularization methods are converted."
      ]
    },
    {
      "cell_type": "markdown",
      "metadata": {
        "id": "L-_Nr_VKx-sg",
        "colab_type": "text"
      },
      "source": [
        "1.1 KERAS ARCHITECTURE"
      ]
    },
    {
      "cell_type": "markdown",
      "metadata": {
        "id": "7s3-l5EX0CXz",
        "colab_type": "text"
      },
      "source": [
        "Keras is a wrapper over other deep learning frameworks. Keras provides consistent and simplified APIs for using these underlying frameworks. "
      ]
    },
    {
      "cell_type": "markdown",
      "metadata": {
        "id": "zSOf-uUM0X97",
        "colab_type": "text"
      },
      "source": [
        "1.2 Overview of Keras documentation"
      ]
    },
    {
      "cell_type": "markdown",
      "metadata": {
        "id": "KFv7eOEy0dhZ",
        "colab_type": "text"
      },
      "source": [
        "One of the many nice features of keras is complete and useful documentation. Complete documentation including installation instructions can be found on the keras website. As you learn to work with keras. you will want to refer to the well-indexed documentation and examples on this site."
      ]
    },
    {
      "cell_type": "markdown",
      "metadata": {
        "id": "6gQ9p7HG1Ko4",
        "colab_type": "text"
      },
      "source": [
        "2.0 A FIRST FEED-FORWARD KERAS EXAMPLE"
      ]
    },
    {
      "cell_type": "markdown",
      "metadata": {
        "id": "EP8ioTSX1UKA",
        "colab_type": "text"
      },
      "source": [
        "We build a simple feedforward neural network to classify handwritten digits from the famous MNIST data set. MNIST contains 60,000 labelled training images and 10,000 test images. Many people consider the MNIST dataset as the 'hello world' problem of deep learning."
      ]
    },
    {
      "cell_type": "markdown",
      "metadata": {
        "id": "EntUkG5810u4",
        "colab_type": "text"
      },
      "source": [
        "2.1 LOADING THE MNIST DATA SET"
      ]
    },
    {
      "cell_type": "markdown",
      "metadata": {
        "id": "etj8Q1zZ16K6",
        "colab_type": "text"
      },
      "source": [
        "MNIST is built in too the keras.datasets package. We only need to import this package and then load it."
      ]
    },
    {
      "cell_type": "markdown",
      "metadata": {
        "id": "6-M6zWKy2Fek",
        "colab_type": "text"
      },
      "source": [
        "The first step is to import the packages we will need for the rest of this notebook. Execute the code in the cell below to load these packages. This code should execute without errors or warnings if everything is installed correctly."
      ]
    },
    {
      "cell_type": "code",
      "metadata": {
        "id": "xzR2-VIg0AUL",
        "colab_type": "code",
        "colab": {
          "base_uri": "https://localhost:8080/",
          "height": 80
        },
        "outputId": "9ffa8497-73e6-41d2-b52d-0070a2fc0d7b"
      },
      "source": [
        "from keras.datasets import mnist\n",
        "import keras.utils.np_utils as ku\n",
        "import keras.models as models\n",
        "import keras.layers as layers\n",
        "from keras import regularizers\n",
        "from keras.optimizers import rmsprop\n",
        "import numpy as np\n",
        "import numpy.random as nr\n",
        "from tensorflow import set_random_seed\n",
        "import matplotlib.pyplot as plt\n",
        "%matplotlib inline"
      ],
      "execution_count": 1,
      "outputs": [
        {
          "output_type": "stream",
          "text": [
            "Using TensorFlow backend.\n"
          ],
          "name": "stderr"
        },
        {
          "output_type": "display_data",
          "data": {
            "text/html": [
              "<p style=\"color: red;\">\n",
              "The default version of TensorFlow in Colab will soon switch to TensorFlow 2.x.<br>\n",
              "We recommend you <a href=\"https://www.tensorflow.org/guide/migrate\" target=\"_blank\">upgrade</a> now \n",
              "or ensure your notebook will continue to use TensorFlow 1.x via the <code>%tensorflow_version 1.x</code> magic:\n",
              "<a href=\"https://colab.research.google.com/notebooks/tensorflow_version.ipynb\" target=\"_blank\">more info</a>.</p>\n"
            ],
            "text/plain": [
              "<IPython.core.display.HTML object>"
            ]
          },
          "metadata": {
            "tags": []
          }
        }
      ]
    },
    {
      "cell_type": "markdown",
      "metadata": {
        "id": "aXh2Bz3g3My2",
        "colab_type": "text"
      },
      "source": [
        "Notice that the TensorFlow backened has been loaded along with various keras packages. keras is making calls to Tensor Flow to perform computations."
      ]
    },
    {
      "cell_type": "markdown",
      "metadata": {
        "id": "AqgNbdO33cjn",
        "colab_type": "text"
      },
      "source": [
        "Now, load the training and testing images and corresponding labels by executing the coded in the cell below. The load_data method creates two tuples of the images and labels for training and testing models."
      ]
    },
    {
      "cell_type": "code",
      "metadata": {
        "id": "MW8HUDnz3DRE",
        "colab_type": "code",
        "colab": {
          "base_uri": "https://localhost:8080/",
          "height": 51
        },
        "outputId": "6fadbf7b-eb08-495a-f1e1-9bc37b4aee4d"
      },
      "source": [
        "(train_images, train_labels),(test_images, test_labels) = mnist.load_data()"
      ],
      "execution_count": 2,
      "outputs": [
        {
          "output_type": "stream",
          "text": [
            "Downloading data from https://s3.amazonaws.com/img-datasets/mnist.npz\n",
            "11493376/11490434 [==============================] - 1s 0us/step\n"
          ],
          "name": "stdout"
        }
      ]
    },
    {
      "cell_type": "markdown",
      "metadata": {
        "id": "vXgy5Paq4EXz",
        "colab_type": "text"
      },
      "source": [
        "with the data loaded, let's have a peak at some of the content. The images of the handwritten digits are represented as rectangular arrays of dimension 28x28. "
      ]
    },
    {
      "cell_type": "code",
      "metadata": {
        "id": "KWWTMQxH4BRG",
        "colab_type": "code",
        "colab": {
          "base_uri": "https://localhost:8080/",
          "height": 34
        },
        "outputId": "4e7b6e5c-ec67-4245-91fc-86d3bd908ae7"
      },
      "source": [
        "print(train_images[4].shape)"
      ],
      "execution_count": 3,
      "outputs": [
        {
          "output_type": "stream",
          "text": [
            "(28, 28)\n"
          ],
          "name": "stdout"
        }
      ]
    },
    {
      "cell_type": "markdown",
      "metadata": {
        "id": "CD5zsO384bVO",
        "colab_type": "text"
      },
      "source": [
        "The handwritten images are all gray-scale, so do not have a color dimension.\n",
        "The code in the cell below displays 4 of the 60,000 images of handwritten digits along with their labels. Execute this code and examine the results."
      ]
    },
    {
      "cell_type": "code",
      "metadata": {
        "id": "zlgIGj3Y4Zii",
        "colab_type": "code",
        "colab": {
          "base_uri": "https://localhost:8080/",
          "height": 1000
        },
        "outputId": "26de19c7-3f38-4910-d0e1-f86061b9aec3"
      },
      "source": [
        "for i in range(5, 20, 4):\n",
        "  plt.imshow(train_images[i], cmap=plt.cm.binary)\n",
        "  plt.show()\n",
        "  print('Label = ' + str(train_labels[i]))"
      ],
      "execution_count": 4,
      "outputs": [
        {
          "output_type": "display_data",
          "data": {
            "image/png": "[encoded data removed]",
            "text/plain": [
              "<Figure size 432x288 with 1 Axes>"
            ]
          },
          "metadata": {
            "tags": []
          }
        },
        {
          "output_type": "stream",
          "text": [
            "Label = 2\n"
          ],
          "name": "stdout"
        },
        {
          "output_type": "display_data",
          "data": {
            "image/png": "[encoded data removed]",
            "text/plain": [
              "<Figure size 432x288 with 1 Axes>"
            ]
          },
          "metadata": {
            "tags": []
          }
        },
        {
          "output_type": "stream",
          "text": [
            "Label = 4\n"
          ],
          "name": "stdout"
        },
        {
          "output_type": "display_data",
          "data": {
            "image/png": "[encoded data removed]",
            "text/plain": [
              "<Figure size 432x288 with 1 Axes>"
            ]
          },
          "metadata": {
            "tags": []
          }
        },
        {
          "output_type": "stream",
          "text": [
            "Label = 6\n"
          ],
          "name": "stdout"
        },
        {
          "output_type": "display_data",
          "data": {
            "image/png": "[encoded data removed]",
            "text/plain": [
              "<Figure size 432x288 with 1 Axes>"
            ]
          },
          "metadata": {
            "tags": []
          }
        },
        {
          "output_type": "stream",
          "text": [
            "Label = 8\n"
          ],
          "name": "stdout"
        }
      ]
    },
    {
      "cell_type": "markdown",
      "metadata": {
        "id": "fFC4EvqG5STA",
        "colab_type": "text"
      },
      "source": [
        "2.2 PREPARE THE DATA FOR TRAINING"
      ]
    },
    {
      "cell_type": "markdown",
      "metadata": {
        "id": "1C9KLTkl5XVV",
        "colab_type": "text"
      },
      "source": [
        "The MNIST images are stored as 3-d tensor. Each image tensor has dimensions 6000x28x28. However, to train a neural network on these images we must flatten this representation so that each image is a vector of length 28*28. The result will be a 2-d tensor of dimensions 60000x(28*28).\n",
        "\n",
        "Further, models created with keras, and most other deep learning frameworks, operate on floating point numbers. The gray scale pixel values of the images are coded as integers in the range{0,255}. These pixel values must be coerced to floating point and then standardized to be in a range {0.0, 1.0}. As is the case for training many machine learning models, it is best to use standardized values for training deep neural networks.\n",
        "\n",
        "The code in the cell below flattens the images and converts the pixel values to a standardized values for training deep neural networks."
      ]
    },
    {
      "cell_type": "code",
      "metadata": {
        "id": "HfcAabg15PQQ",
        "colab_type": "code",
        "colab": {
          "base_uri": "https://localhost:8080/",
          "height": 68
        },
        "outputId": "23ffb324-59d0-4ddb-b5bc-4266a0e191ab"
      },
      "source": [
        "print(train_images.shape, train_labels.shape)\n",
        "train_images = train_images.reshape((60000, 28*28)).astype('float32')/255\n",
        "print(train_images.shape)\n",
        "print(train_images.dtype)"
      ],
      "execution_count": 5,
      "outputs": [
        {
          "output_type": "stream",
          "text": [
            "(60000, 28, 28) (60000,)\n",
            "(60000, 784)\n",
            "float32\n"
          ],
          "name": "stdout"
        }
      ]
    },
    {
      "cell_type": "markdown",
      "metadata": {
        "id": "hPB1HNGF7tSh",
        "colab_type": "text"
      },
      "source": [
        "Notice the original shape and resulting shape of the training image tensor. In addition, the array is now of type float32.\n",
        "Execute the code in the cell below to apply the same transformation to the test images."
      ]
    },
    {
      "cell_type": "code",
      "metadata": {
        "id": "fTdKVNkZ7rac",
        "colab_type": "code",
        "colab": {
          "base_uri": "https://localhost:8080/",
          "height": 51
        },
        "outputId": "c68dc5c6-a36e-43b9-a1b4-5dee32946f15"
      },
      "source": [
        "print(test_images.shape, test_labels.shape)\n",
        "test_images = test_images.reshape((10000, 28*28)).astype('float32')/255\n",
        "print(test_images.shape)"
      ],
      "execution_count": 7,
      "outputs": [
        {
          "output_type": "stream",
          "text": [
            "(10000, 784) (10000,)\n",
            "(10000, 784)\n"
          ],
          "name": "stdout"
        }
      ]
    },
    {
      "cell_type": "markdown",
      "metadata": {
        "id": "Pu4JVH0Q8a4H",
        "colab_type": "text"
      },
      "source": [
        "Since we are working on classification problem, the labels values must be of a categorical type. Execute the code in the cell below and examine the coding of these labels."
      ]
    },
    {
      "cell_type": "code",
      "metadata": {
        "id": "82yw2igk8Wjf",
        "colab_type": "code",
        "colab": {
          "base_uri": "https://localhost:8080/",
          "height": 34
        },
        "outputId": "126d731a-fdba-437e-98b0-a76518afaa9e"
      },
      "source": [
        "print(train_labels[5:,])"
      ],
      "execution_count": 9,
      "outputs": [
        {
          "output_type": "stream",
          "text": [
            "[2 1 3 ... 5 6 8]\n"
          ],
          "name": "stdout"
        }
      ]
    },
    {
      "cell_type": "markdown",
      "metadata": {
        "id": "bI2X9XSI85BN",
        "colab_type": "text"
      },
      "source": [
        "The labels are coded as integers corresponding to the digit in the image. These values must be coerced to a categorical type. For keras, categorical types must be one hot encoded. One hot encoding is a set of binary columns, one for each category.\n",
        "Fortunately the to_categorical method in the keras.utils.np_utils package does just this. Execute the code in the cell below and examine the printed results."
      ]
    },
    {
      "cell_type": "code",
      "metadata": {
        "id": "DnN1t-xt8yuH",
        "colab_type": "code",
        "colab": {
          "base_uri": "https://localhost:8080/",
          "height": 136
        },
        "outputId": "b530590b-b218-43e6-cfec-e418e12d1060"
      },
      "source": [
        "train_labels = ku.to_categorical(train_labels)\n",
        "print(train_labels[5:,])"
      ],
      "execution_count": 10,
      "outputs": [
        {
          "output_type": "stream",
          "text": [
            "[[0. 0. 1. ... 0. 0. 0.]\n",
            " [0. 1. 0. ... 0. 0. 0.]\n",
            " [0. 0. 0. ... 0. 0. 0.]\n",
            " ...\n",
            " [0. 0. 0. ... 0. 0. 0.]\n",
            " [0. 0. 0. ... 0. 0. 0.]\n",
            " [0. 0. 0. ... 0. 1. 0.]]\n"
          ],
          "name": "stdout"
        }
      ]
    },
    {
      "cell_type": "markdown",
      "metadata": {
        "id": "SLWVKrhJ9xxW",
        "colab_type": "text"
      },
      "source": [
        "Notice that the label values have been converted from integers to a set of 10 dummy variables of the one hot encoding. The columns of the dummy variables represent digits in the range{0,9}. One dummy variable per case will be coded as 1 and the rest coded as 0. For example the first row in the example above encodes a 2, and the second row encodes a 1."
      ]
    },
    {
      "cell_type": "markdown",
      "metadata": {
        "id": "YqBgFNut-dUn",
        "colab_type": "text"
      },
      "source": [
        "After Executing the code in the cell below to coerce the test labels to dummy variables."
      ]
    },
    {
      "cell_type": "code",
      "metadata": {
        "id": "DHn40C4V9wsM",
        "colab_type": "code",
        "colab": {}
      },
      "source": [
        "test_labels = ku.to_categorical(test_labels)"
      ],
      "execution_count": 0,
      "outputs": []
    },
    {
      "cell_type": "markdown",
      "metadata": {
        "id": "Qu8WO1Tf-uN4",
        "colab_type": "text"
      },
      "source": [
        "2.3 DEFINING A SEQUENTIAL MODEL\n",
        "The data is prepared, so it is time to start defining a neural network model. We are using a simple feedforward model which is one type of sequential model keras can create. There is general receipe for defining sequential Keras models:\n",
        "1. Define a sequential model object.\n",
        "2. Define one or more hidden layers.\n",
        "3. Define an output layer."
      ]
    },
    {
      "cell_type": "markdown",
      "metadata": {
        "id": "_jjKG1ffBAsr",
        "colab_type": "text"
      },
      "source": [
        "Specially in this case, the sequential model is defined as follows:\n",
        "1. A sequential model object nn is defined.\n",
        "2. A single hidden layer is defined.\n",
        "    This layer is dense(fully connected) with 512 units.\n",
        "    The activation of each unit is rectilinear.\n",
        "    The hidden layer is expecting an input tensor of 28*28by an undefined number of case(images)\n",
        "3.The output layer has 10 hidden units.\n",
        "    We need 10 units since there are 10 categories of handwritten digits we are classifying.\n",
        "    This is a Multinomial classification problem so we are using softmax activation.\n",
        "\n",
        "\n"
      ]
    },
    {
      "cell_type": "markdown",
      "metadata": {
        "id": "SBv4j5k_CZdH",
        "colab_type": "text"
      },
      "source": [
        "Execute this code to define the model."
      ]
    },
    {
      "cell_type": "code",
      "metadata": {
        "id": "PBLNUx88-sR8",
        "colab_type": "code",
        "colab": {
          "base_uri": "https://localhost:8080/",
          "height": 85
        },
        "outputId": "db914843-2953-4e81-fd98-80a2150ba862"
      },
      "source": [
        "nn = models.Sequential()\n",
        "nn.add(layers.Dense(512, activation = 'relu', input_shape = (28*28, )))\n",
        "nn.add(layers.Dense(10, activation = 'softmax'))"
      ],
      "execution_count": 14,
      "outputs": [
        {
          "output_type": "stream",
          "text": [
            "WARNING:tensorflow:From /usr/local/lib/python3.6/dist-packages/keras/backend/tensorflow_backend.py:541: The name tf.placeholder is deprecated. Please use tf.compat.v1.placeholder instead.\n",
            "\n",
            "WARNING:tensorflow:From /usr/local/lib/python3.6/dist-packages/keras/backend/tensorflow_backend.py:4432: The name tf.random_uniform is deprecated. Please use tf.random.uniform instead.\n",
            "\n"
          ],
          "name": "stdout"
        }
      ]
    },
    {
      "cell_type": "markdown",
      "metadata": {
        "id": "bVh4YAYZEnMa",
        "colab_type": "text"
      },
      "source": [
        "2.4 TRAINING AND EVALUATING THE SEQUENTIAL MODEL"
      ]
    },
    {
      "cell_type": "markdown",
      "metadata": {
        "id": "WUffDWdmEzzR",
        "colab_type": "text"
      },
      "source": [
        "With a defined model it is time to train and evaluate it. First, the model must be compiled by executing the code below. This call specifies the following:\n",
        "\n",
        "\n",
        "\n",
        "1.   Specify an optimiser\n",
        "2.   Specify a loss function. In this case we are performing Multinomial classification so we are using categorical_crossentropy.\n",
        "3.   Specify one or more metrics used to evaluate the performance of the model. In this case we are using just one metric, accuracy.\n",
        "We Will discuss the technical details of the model in subsequent lessons.\n",
        "\n"
      ]
    },
    {
      "cell_type": "code",
      "metadata": {
        "id": "PkKsGjVVFwfm",
        "colab_type": "code",
        "colab": {
          "base_uri": "https://localhost:8080/",
          "height": 85
        },
        "outputId": "20db4a44-ff96-4f17-8bf9-fad3869856e5"
      },
      "source": [
        "nn.compile(optimizer = 'rmsprop', loss = 'categorical_crossentropy', metrics = ['accuracy'])"
      ],
      "execution_count": 16,
      "outputs": [
        {
          "output_type": "stream",
          "text": [
            "WARNING:tensorflow:From /usr/local/lib/python3.6/dist-packages/keras/optimizers.py:793: The name tf.train.Optimizer is deprecated. Please use tf.compat.v1.train.Optimizer instead.\n",
            "\n",
            "WARNING:tensorflow:From /usr/local/lib/python3.6/dist-packages/keras/backend/tensorflow_backend.py:3576: The name tf.log is deprecated. Please use tf.math.log instead.\n",
            "\n"
          ],
          "name": "stdout"
        }
      ]
    },
    {
      "cell_type": "markdown",
      "metadata": {
        "id": "Tj0SR-V4DG4s",
        "colab_type": "text"
      },
      "source": [
        "Now, the model is ready to be trained using the fit method by executing the code in the cell below. The fit method has several argumants:\n",
        "\n",
        "\n",
        "1.   The training features.\n",
        "2.   The training labels.\n",
        "3.   The number of epochs(iterations)over which the model is trained.\n",
        "4.   The batch size used for the optimizer. The meaning of this will be discussed in the leson on optimization.\n",
        "\n",
        "\n"
      ]
    },
    {
      "cell_type": "code",
      "metadata": {
        "id": "weZOsLGtC30a",
        "colab_type": "code",
        "colab": {
          "base_uri": "https://localhost:8080/",
          "height": 527
        },
        "outputId": "c0a3ef71-9a30-42d7-bfb1-0a7814cec7a9"
      },
      "source": [
        "nr.seed(9898)\n",
        "set_random_seed(9777)\n",
        "nn.fit(train_images, train_labels, epochs = 5, batch_size = 128)"
      ],
      "execution_count": 17,
      "outputs": [
        {
          "output_type": "stream",
          "text": [
            "WARNING:tensorflow:From /usr/local/lib/python3.6/dist-packages/tensorflow_core/python/ops/math_grad.py:1424: where (from tensorflow.python.ops.array_ops) is deprecated and will be removed in a future version.\n",
            "Instructions for updating:\n",
            "Use tf.where in 2.0, which has the same broadcast rule as np.where\n",
            "WARNING:tensorflow:From /usr/local/lib/python3.6/dist-packages/keras/backend/tensorflow_backend.py:1033: The name tf.assign_add is deprecated. Please use tf.compat.v1.assign_add instead.\n",
            "\n",
            "WARNING:tensorflow:From /usr/local/lib/python3.6/dist-packages/keras/backend/tensorflow_backend.py:1020: The name tf.assign is deprecated. Please use tf.compat.v1.assign instead.\n",
            "\n",
            "WARNING:tensorflow:From /usr/local/lib/python3.6/dist-packages/keras/backend/tensorflow_backend.py:3005: The name tf.Session is deprecated. Please use tf.compat.v1.Session instead.\n",
            "\n",
            "Epoch 1/5\n",
            "WARNING:tensorflow:From /usr/local/lib/python3.6/dist-packages/keras/backend/tensorflow_backend.py:190: The name tf.get_default_session is deprecated. Please use tf.compat.v1.get_default_session instead.\n",
            "\n",
            "WARNING:tensorflow:From /usr/local/lib/python3.6/dist-packages/keras/backend/tensorflow_backend.py:197: The name tf.ConfigProto is deprecated. Please use tf.compat.v1.ConfigProto instead.\n",
            "\n",
            "WARNING:tensorflow:From /usr/local/lib/python3.6/dist-packages/keras/backend/tensorflow_backend.py:207: The name tf.global_variables is deprecated. Please use tf.compat.v1.global_variables instead.\n",
            "\n",
            "WARNING:tensorflow:From /usr/local/lib/python3.6/dist-packages/keras/backend/tensorflow_backend.py:216: The name tf.is_variable_initialized is deprecated. Please use tf.compat.v1.is_variable_initialized instead.\n",
            "\n",
            "WARNING:tensorflow:From /usr/local/lib/python3.6/dist-packages/keras/backend/tensorflow_backend.py:223: The name tf.variables_initializer is deprecated. Please use tf.compat.v1.variables_initializer instead.\n",
            "\n",
            "60000/60000 [==============================] - 5s 77us/step - loss: 0.2583 - acc: 0.9245\n",
            "Epoch 2/5\n",
            "60000/60000 [==============================] - 4s 69us/step - loss: 0.1059 - acc: 0.9680\n",
            "Epoch 3/5\n",
            "60000/60000 [==============================] - 4s 68us/step - loss: 0.0713 - acc: 0.9785\n",
            "Epoch 4/5\n",
            "60000/60000 [==============================] - 4s 70us/step - loss: 0.0521 - acc: 0.9843\n",
            "Epoch 5/5\n",
            "60000/60000 [==============================] - 4s 69us/step - loss: 0.0391 - acc: 0.9878\n"
          ],
          "name": "stdout"
        },
        {
          "output_type": "execute_result",
          "data": {
            "text/plain": [
              "<keras.callbacks.History at 0x7f2672ceb668>"
            ]
          },
          "metadata": {
            "tags": []
          },
          "execution_count": 17
        }
      ]
    },
    {
      "cell_type": "markdown",
      "metadata": {
        "id": "46KCG1jdHNXN",
        "colab_type": "text"
      },
      "source": [
        "Notice that the loss declines and the accuracy increases with each training epoch. However, since neural networks tend to be over-fit, these improved figures may or may not indicate that the model is actually getting better. Keep in mind that the model may simply be learning the training data.\n",
        "It is necessary to test the model on independent data set. The evaluate method allows you to do just this. Execute the code in the cell below and compare the results to training results."
      ]
    },
    {
      "cell_type": "code",
      "metadata": {
        "id": "RBbYii7MESnO",
        "colab_type": "code",
        "colab": {
          "base_uri": "https://localhost:8080/",
          "height": 51
        },
        "outputId": "72836c38-fcc3-4f5f-df42-cbb5dea22420"
      },
      "source": [
        "nn.evaluate(test_images, test_labels)"
      ],
      "execution_count": 18,
      "outputs": [
        {
          "output_type": "stream",
          "text": [
            "10000/10000 [==============================] - 0s 47us/step\n"
          ],
          "name": "stdout"
        },
        {
          "output_type": "execute_result",
          "data": {
            "text/plain": [
              "[2.299931149291992, 0.0892]"
            ]
          },
          "metadata": {
            "tags": []
          },
          "execution_count": 18
        }
      ]
    },
    {
      "cell_type": "markdown",
      "metadata": {
        "id": "YnT-JyG3KGrB",
        "colab_type": "text"
      },
      "source": [
        "It appears that the model is over-fit since the evaluation loss and accuracy are a bit worse than observed in training."
      ]
    },
    {
      "cell_type": "markdown",
      "metadata": {
        "id": "9ST6jmNfKW6n",
        "colab_type": "text"
      },
      "source": [
        "3.0 TRAINING OVER EPOCHS\n",
        "In order to determine at what point a model is overfit during training it is necessary to evaluate the model after each training epoch. A history object is created which contains the history of various metrics during the training or fitting process."
      ]
    },
    {
      "cell_type": "markdown",
      "metadata": {
        "id": "xzZCjBOQK8xJ",
        "colab_type": "text"
      },
      "source": [
        "Notice that the validation_data argument must be specified so that performance of the model can be computed at the end or each epoch. The printed history of the training will include the validation loss and validation accuracy for each epoch."
      ]
    },
    {
      "cell_type": "markdown",
      "metadata": {
        "id": "59RdKUITLdXk",
        "colab_type": "text"
      },
      "source": [
        "Expect execution of this code to take a while."
      ]
    },
    {
      "cell_type": "code",
      "metadata": {
        "id": "XIAgr1NSKFEB",
        "colab_type": "code",
        "colab": {
          "base_uri": "https://localhost:8080/",
          "height": 578
        },
        "outputId": "3a89480e-f4e9-45fa-c292-7414a2c4b7ec"
      },
      "source": [
        "## Define a sequential model and print a summary\n",
        "nnt = models.Sequential()\n",
        "nnt.add(layers.Dense(512, activation = 'relu' , input_shape = (28*28, )))\n",
        "nnt.add(layers.Dense(10, activation = 'softmax'))\n",
        "nnt.summary()\n",
        "\n",
        "## Compile the model.\n",
        "nnt.compile(optimizer = 'rmsprop', loss = 'categorical_crossentropy',\n",
        "            metrics = ['accuracy'])\n",
        "## Fit the model saving the results to a history file\n",
        "nr.seed(4678)\n",
        "set_random_seed(8866)\n",
        "history = nnt.fit(train_images, train_labels,\n",
        "                  epochs = 10, batch_size = 128,\n",
        "                  validation_data = (test_images, test_labels))"
      ],
      "execution_count": 19,
      "outputs": [
        {
          "output_type": "stream",
          "text": [
            "Model: \"sequential_4\"\n",
            "_________________________________________________________________\n",
            "Layer (type)                 Output Shape              Param #   \n",
            "=================================================================\n",
            "dense_5 (Dense)              (None, 512)               401920    \n",
            "_________________________________________________________________\n",
            "dense_6 (Dense)              (None, 10)                5130      \n",
            "=================================================================\n",
            "Total params: 407,050\n",
            "Trainable params: 407,050\n",
            "Non-trainable params: 0\n",
            "_________________________________________________________________\n",
            "Train on 60000 samples, validate on 10000 samples\n",
            "Epoch 1/10\n",
            "60000/60000 [==============================] - 5s 76us/step - loss: 0.2658 - acc: 0.9224 - val_loss: 2.2936 - val_acc: 0.0892\n",
            "Epoch 2/10\n",
            "60000/60000 [==============================] - 4s 73us/step - loss: 0.1075 - acc: 0.9681 - val_loss: 2.2999 - val_acc: 0.0892\n",
            "Epoch 3/10\n",
            "60000/60000 [==============================] - 4s 73us/step - loss: 0.0701 - acc: 0.9789 - val_loss: 2.3059 - val_acc: 0.0892\n",
            "Epoch 4/10\n",
            "60000/60000 [==============================] - 4s 72us/step - loss: 0.0517 - acc: 0.9840 - val_loss: 2.3021 - val_acc: 0.0892\n",
            "Epoch 5/10\n",
            "60000/60000 [==============================] - 4s 73us/step - loss: 0.0402 - acc: 0.9881 - val_loss: 2.3043 - val_acc: 0.0892\n",
            "Epoch 6/10\n",
            "60000/60000 [==============================] - 4s 73us/step - loss: 0.0307 - acc: 0.9910 - val_loss: 2.3060 - val_acc: 0.0892\n",
            "Epoch 7/10\n",
            "60000/60000 [==============================] - 4s 73us/step - loss: 0.0242 - acc: 0.9927 - val_loss: 2.3083 - val_acc: 0.0892\n",
            "Epoch 8/10\n",
            "60000/60000 [==============================] - 4s 74us/step - loss: 0.0189 - acc: 0.9948 - val_loss: 2.3120 - val_acc: 0.0892\n",
            "Epoch 9/10\n",
            "60000/60000 [==============================] - 4s 74us/step - loss: 0.0154 - acc: 0.9954 - val_loss: 2.3181 - val_acc: 0.0892\n",
            "Epoch 10/10\n",
            "60000/60000 [==============================] - 4s 73us/step - loss: 0.0114 - acc: 0.9967 - val_loss: 2.3203 - val_acc: 0.0892\n"
          ],
          "name": "stdout"
        }
      ]
    },
    {
      "cell_type": "markdown",
      "metadata": {
        "id": "4rIp4yeaNEq-",
        "colab_type": "text"
      },
      "source": [
        "To aid in understanding these figures it will help to make some plots comparing the training and evaluation performance as the training epochs evolve. The code in the next two cells does this is a somewhat primitive manner. The Numpy array is manually edited to include the training loss and training accuracy."
      ]
    },
    {
      "cell_type": "markdown",
      "metadata": {
        "id": "-cP-We_PNwH5",
        "colab_type": "text"
      },
      "source": [
        "The plot_loss and plot_accuracy functions, in the next two cell, plot the training loss or accuracy in blue and the test loss or accuracy in red.Execute the code and examine the plots."
      ]
    },
    {
      "cell_type": "code",
      "metadata": {
        "id": "roB6IYx5NDNN",
        "colab_type": "code",
        "colab": {
          "base_uri": "https://localhost:8080/",
          "height": 295
        },
        "outputId": "18baba4e-46be-4ffd-8416-8b6f40bf34dd"
      },
      "source": [
        "def plot_loss(history):\n",
        "    train_loss = history.history['loss']\n",
        "    test_loss = history.history['val_loss']\n",
        "    x = list(range(1, len(test_loss) + 1))\n",
        "    plt.plot(x, test_loss, color = 'red', label = 'test loss')\n",
        "    plt.plot(x, train_loss, label = 'traning loss')\n",
        "    plt.xlabel('Epoch')\n",
        "    plt.ylabel('Loss')\n",
        "    plt.title('Loss vs. Epoch')\n",
        "    plt.legend()\n",
        "    \n",
        "plot_loss(history)  "
      ],
      "execution_count": 25,
      "outputs": [
        {
          "output_type": "display_data",
          "data": {
            "image/png": "[encoded data removed]",
            "text/plain": [
              "<Figure size 432x288 with 1 Axes>"
            ]
          },
          "metadata": {
            "tags": []
          }
        }
      ]
    },
    {
      "cell_type": "code",
      "metadata": {
        "id": "CRYpTYHMhuJd",
        "colab_type": "code",
        "colab": {
          "base_uri": "https://localhost:8080/",
          "height": 295
        },
        "outputId": "8b90ba47-4376-445d-e8f5-0d8b055ebef5"
      },
      "source": [
        "def plot_accuracy(history):\n",
        "    train_acc = history.history['acc']\n",
        "    test_acc = history.history['val_acc']\n",
        "    x = list(range(1, len(test_acc) + 1))\n",
        "    plt.plot(x, test_acc, color = 'red', label = 'test accuracy')\n",
        "    plt.plot(x, train_acc, label = 'training accuracy')  \n",
        "    plt.xlabel('Epoch')\n",
        "    plt.ylabel('Accuracy')\n",
        "    plt.title('Accuracy vs. Epoch')  \n",
        "    plt.legend(loc='lower right')\n",
        "    \n",
        "plot_accuracy(history)    "
      ],
      "execution_count": 26,
      "outputs": [
        {
          "output_type": "display_data",
          "data": {
            "image/png": "[encoded data removed]",
            "text/plain": [
              "<Figure size 432x288 with 1 Axes>"
            ]
          },
          "metadata": {
            "tags": []
          }
        }
      ]
    },
    {
      "cell_type": "markdown",
      "metadata": {
        "id": "36NKT3nIi-Qz",
        "colab_type": "text"
      },
      "source": [
        "Notice that the training loss and accuracy continue to improve throughout the epochs. however, the evaluation loss and accuracy only improve significantly for the first four, or perhaps 5, epochs. This is clear evidence that subsequent epochs are simply over-fitting the model."
      ]
    },
    {
      "cell_type": "markdown",
      "metadata": {
        "id": "UScK8U9SmNPr",
        "colab_type": "text"
      },
      "source": [
        "4.0 ADDING HIDDEN LAYERS"
      ]
    },
    {
      "cell_type": "markdown",
      "metadata": {
        "id": "kvoaDLIrmUd6",
        "colab_type": "text"
      },
      "source": [
        "Next, we will add an additional hidden layer to the model. Additional layers add capacity to the model to represent complex function. However, the network becomes more susceptible to over fitting. Details of model capacity are discussed in other lesons."
      ]
    },
    {
      "cell_type": "markdown",
      "metadata": {
        "id": "nmfMATvLmu7V",
        "colab_type": "text"
      },
      "source": [
        "The code in the cell below defines a model similar to the first one, but with a second layer defined. Notice that the definition of the two layer model is nearly the same as for the single layer model. In this case, the second layer has the same number of units and activation function as the first."
      ]
    },
    {
      "cell_type": "markdown",
      "metadata": {
        "id": "NUagqPDFnTVL",
        "colab_type": "text"
      },
      "source": [
        "However, notice that the input_shape does not to be defined for hidden layers past the first. Keras will determine the dimensions of tensors passed between layers beyond the input."
      ]
    },
    {
      "cell_type": "markdown",
      "metadata": {
        "id": "e8FFPpkNno9W",
        "colab_type": "text"
      },
      "source": [
        "Expect execution of this code to take a while"
      ]
    },
    {
      "cell_type": "code",
      "metadata": {
        "id": "-zmMBD54i43T",
        "colab_type": "code",
        "colab": {
          "base_uri": "https://localhost:8080/",
          "height": 952
        },
        "outputId": "ac069b08-6dc4-4a85-eb62-d05ff34d66d5"
      },
      "source": [
        "## Define a sequential model\n",
        "nnt = models.Sequential()\n",
        "nnt.add(layers.Dense(512, activation = 'relu', input_shape = (28*28, )))\n",
        "nnt.add(layers.Dense(512, activation = 'relu'))\n",
        "nnt.add(layers.Dense(10, activation = 'softmax'))\n",
        "nnt.summary()\n",
        "\n",
        "## Compile the model\n",
        "nnt.compile(optimizer = 'rmsprop', loss = 'categorical_crossentropy',\n",
        "            metrics = ['accuracy'])\n",
        "\n",
        "## Fit the model, saving the results to a history file.\n",
        "nr.seed(2432)\n",
        "set_random_seed(5544)\n",
        "history = nnt.fit(train_images, train_labels,\n",
        "                  epochs = 20, batch_size = 128,\n",
        "                  validation_data = (test_images, test_labels))"
      ],
      "execution_count": 28,
      "outputs": [
        {
          "output_type": "stream",
          "text": [
            "Model: \"sequential_6\"\n",
            "_________________________________________________________________\n",
            "Layer (type)                 Output Shape              Param #   \n",
            "=================================================================\n",
            "dense_10 (Dense)             (None, 512)               401920    \n",
            "_________________________________________________________________\n",
            "dense_11 (Dense)             (None, 512)               262656    \n",
            "_________________________________________________________________\n",
            "dense_12 (Dense)             (None, 10)                5130      \n",
            "=================================================================\n",
            "Total params: 669,706\n",
            "Trainable params: 669,706\n",
            "Non-trainable params: 0\n",
            "_________________________________________________________________\n",
            "Train on 60000 samples, validate on 10000 samples\n",
            "Epoch 1/20\n",
            "60000/60000 [==============================] - 8s 129us/step - loss: 0.2233 - acc: 0.9311 - val_loss: 2.2673 - val_acc: 0.0892\n",
            "Epoch 2/20\n",
            "60000/60000 [==============================] - 7s 124us/step - loss: 0.0833 - acc: 0.9744 - val_loss: 2.2809 - val_acc: 0.0892\n",
            "Epoch 3/20\n",
            "60000/60000 [==============================] - 7s 124us/step - loss: 0.0550 - acc: 0.9830 - val_loss: 2.2885 - val_acc: 0.0892\n",
            "Epoch 4/20\n",
            "60000/60000 [==============================] - 8s 125us/step - loss: 0.0407 - acc: 0.9874 - val_loss: 2.3082 - val_acc: 0.0892\n",
            "Epoch 5/20\n",
            "60000/60000 [==============================] - 7s 123us/step - loss: 0.0311 - acc: 0.9900 - val_loss: 2.3078 - val_acc: 0.0914\n",
            "Epoch 6/20\n",
            "60000/60000 [==============================] - 7s 125us/step - loss: 0.0233 - acc: 0.9926 - val_loss: 2.3061 - val_acc: 0.0914\n",
            "Epoch 7/20\n",
            "60000/60000 [==============================] - 8s 125us/step - loss: 0.0193 - acc: 0.9940 - val_loss: 2.3352 - val_acc: 0.0892\n",
            "Epoch 8/20\n",
            "60000/60000 [==============================] - 7s 125us/step - loss: 0.0165 - acc: 0.9952 - val_loss: 2.3236 - val_acc: 0.0892\n",
            "Epoch 9/20\n",
            "60000/60000 [==============================] - 8s 125us/step - loss: 0.0150 - acc: 0.9957 - val_loss: 2.3234 - val_acc: 0.0892\n",
            "Epoch 10/20\n",
            "60000/60000 [==============================] - 8s 126us/step - loss: 0.0133 - acc: 0.9963 - val_loss: 2.3229 - val_acc: 0.0892\n",
            "Epoch 11/20\n",
            "60000/60000 [==============================] - 8s 127us/step - loss: 0.0108 - acc: 0.9968 - val_loss: 2.3193 - val_acc: 0.0892\n",
            "Epoch 12/20\n",
            "60000/60000 [==============================] - 8s 128us/step - loss: 0.0096 - acc: 0.9973 - val_loss: 2.3307 - val_acc: 0.0892\n",
            "Epoch 13/20\n",
            "60000/60000 [==============================] - 8s 128us/step - loss: 0.0097 - acc: 0.9974 - val_loss: 2.3274 - val_acc: 0.0892\n",
            "Epoch 14/20\n",
            "60000/60000 [==============================] - 8s 126us/step - loss: 0.0081 - acc: 0.9977 - val_loss: 2.3345 - val_acc: 0.0892\n",
            "Epoch 15/20\n",
            "60000/60000 [==============================] - 8s 129us/step - loss: 0.0068 - acc: 0.9981 - val_loss: 2.3618 - val_acc: 0.0892\n",
            "Epoch 16/20\n",
            "60000/60000 [==============================] - 8s 128us/step - loss: 0.0085 - acc: 0.9979 - val_loss: 2.3529 - val_acc: 0.0892\n",
            "Epoch 17/20\n",
            "60000/60000 [==============================] - 8s 127us/step - loss: 0.0064 - acc: 0.9983 - val_loss: 2.3483 - val_acc: 0.0892\n",
            "Epoch 18/20\n",
            "60000/60000 [==============================] - 8s 126us/step - loss: 0.0073 - acc: 0.9981 - val_loss: 2.3475 - val_acc: 0.0892\n",
            "Epoch 19/20\n",
            "60000/60000 [==============================] - 7s 124us/step - loss: 0.0050 - acc: 0.9988 - val_loss: 2.3629 - val_acc: 0.0892\n",
            "Epoch 20/20\n",
            "60000/60000 [==============================] - 8s 126us/step - loss: 0.0066 - acc: 0.9985 - val_loss: 2.3724 - val_acc: 0.0892\n"
          ],
          "name": "stdout"
        }
      ]
    },
    {
      "cell_type": "markdown",
      "metadata": {
        "id": "4aXCl1hinnir",
        "colab_type": "text"
      },
      "source": [
        "As before we can best understand these results by creating plots of the loss and accuracy for training and evaluation vs. epoch. Execute the code in the two cells below to display these plots and study the results."
      ]
    },
    {
      "cell_type": "code",
      "metadata": {
        "id": "ewnDB6_nponi",
        "colab_type": "code",
        "colab": {
          "base_uri": "https://localhost:8080/",
          "height": 295
        },
        "outputId": "e074d4c8-6743-41d6-e537-b503b24b5ec0"
      },
      "source": [
        "plot_loss(history)"
      ],
      "execution_count": 30,
      "outputs": [
        {
          "output_type": "display_data",
          "data": {
            "image/png": "[encoded data removed]",
            "text/plain": [
              "<Figure size 432x288 with 1 Axes>"
            ]
          },
          "metadata": {
            "tags": []
          }
        }
      ]
    },
    {
      "cell_type": "code",
      "metadata": {
        "id": "otIYnSF8p3UG",
        "colab_type": "code",
        "colab": {
          "base_uri": "https://localhost:8080/",
          "height": 295
        },
        "outputId": "bf671bec-b22b-4205-adbc-f94852432e79"
      },
      "source": [
        "plot_accuracy(history)"
      ],
      "execution_count": 31,
      "outputs": [
        {
          "output_type": "display_data",
          "data": {
            "image/png": "[encoded data removed]",
            "text/plain": [
              "<Figure size 432x288 with 1 Axes>"
            ]
          },
          "metadata": {
            "tags": []
          }
        }
      ]
    },
    {
      "cell_type": "markdown",
      "metadata": {
        "id": "jfhiLdNXqDMf",
        "colab_type": "text"
      },
      "source": [
        "SO here we see that after epoch four the true (training) loss actually, whereas the training loss continues to decrease. This is a clear indication of overfitting.\n",
        "When compared to the single layer example, the over-fitting is more obvious. This should not be a suprise, since the number of weights has nearly doubled from the single layer model"
      ]
    },
    {
      "cell_type": "markdown",
      "metadata": {
        "id": "vlb9ZGTyqpNd",
        "colab_type": "text"
      },
      "source": [
        "5.0 ADDING REGULARIZATION TO THE MODEL"
      ]
    },
    {
      "cell_type": "markdown",
      "metadata": {
        "id": "V2f_1MkTqvyZ",
        "colab_type": "text"
      },
      "source": [
        "Regularization is used to prevent over-fitting of machine learning models including neural networks. The keras regularizers package provides L1 and L2 regularization methods. "
      ]
    },
    {
      "cell_type": "markdown",
      "metadata": {
        "id": "fcKMqi0erIh2",
        "colab_type": "text"
      },
      "source": [
        "The code in the cell below adds the kernel_regularizer argument with the value of regularizer.12(0.01). This adds a weight decay penalty of 0.01 to the model weights."
      ]
    },
    {
      "cell_type": "markdown",
      "metadata": {
        "id": "KXP5IyK2rdhw",
        "colab_type": "text"
      },
      "source": [
        "Executing the code below"
      ]
    },
    {
      "cell_type": "code",
      "metadata": {
        "id": "QJ11UR_gp9vS",
        "colab_type": "code",
        "colab": {
          "base_uri": "https://localhost:8080/",
          "height": 952
        },
        "outputId": "dc9f2b96-189b-44db-82a1-f462af3e8ddc"
      },
      "source": [
        "## Define the layers of the sequential model and print a summary\n",
        "nnt = models.Sequential()\n",
        "nnt.add(layers.Dense(512, activation = 'relu', input_shape = (28*28, ),\n",
        "                     kernel_regularizer=regularizers.l2(0.001)))\n",
        "nnt.add(layers.Dense(512, activation = 'relu', kernel_regularizer=regularizers.l2(0.001)))\n",
        "nnt.add(layers.Dense(10, activation = 'softmax'))\n",
        "nnt.summary()\n",
        "\n",
        "## Define an optimizer object and compile the model\n",
        "optimizer = rmsprop()\n",
        "nnt.compile(optimizer = optimizer, loss = 'categorical_crossentropy', metrics = ['accuracy'])\n",
        "\n",
        "## Fit the compiled model\n",
        "nr.seed(8765)\n",
        "set_random_seed(7654)\n",
        "history = nnt.fit(train_images, train_labels,\n",
        "                  epochs = 20, batch_size = 128,\n",
        "                  validation_data = (test_images, test_labels))"
      ],
      "execution_count": 34,
      "outputs": [
        {
          "output_type": "stream",
          "text": [
            "Model: \"sequential_7\"\n",
            "_________________________________________________________________\n",
            "Layer (type)                 Output Shape              Param #   \n",
            "=================================================================\n",
            "dense_13 (Dense)             (None, 512)               401920    \n",
            "_________________________________________________________________\n",
            "dense_14 (Dense)             (None, 512)               262656    \n",
            "_________________________________________________________________\n",
            "dense_15 (Dense)             (None, 10)                5130      \n",
            "=================================================================\n",
            "Total params: 669,706\n",
            "Trainable params: 669,706\n",
            "Non-trainable params: 0\n",
            "_________________________________________________________________\n",
            "Train on 60000 samples, validate on 10000 samples\n",
            "Epoch 1/20\n",
            "60000/60000 [==============================] - 9s 146us/step - loss: 0.6527 - acc: 0.9206 - val_loss: 2.4782 - val_acc: 0.0892\n",
            "Epoch 2/20\n",
            "60000/60000 [==============================] - 8s 140us/step - loss: 0.2719 - acc: 0.9597 - val_loss: 2.4386 - val_acc: 0.0892\n",
            "Epoch 3/20\n",
            "60000/60000 [==============================] - 9s 143us/step - loss: 0.2108 - acc: 0.9668 - val_loss: 2.5074 - val_acc: 0.0892\n",
            "Epoch 4/20\n",
            "60000/60000 [==============================] - 9s 143us/step - loss: 0.1832 - acc: 0.9706 - val_loss: 2.5400 - val_acc: 0.0892\n",
            "Epoch 5/20\n",
            "60000/60000 [==============================] - 9s 143us/step - loss: 0.1648 - acc: 0.9734 - val_loss: 2.6096 - val_acc: 0.0892\n",
            "Epoch 6/20\n",
            "60000/60000 [==============================] - 9s 144us/step - loss: 0.1542 - acc: 0.9751 - val_loss: 2.5611 - val_acc: 0.0892\n",
            "Epoch 7/20\n",
            "60000/60000 [==============================] - 9s 146us/step - loss: 0.1460 - acc: 0.9758 - val_loss: 2.5993 - val_acc: 0.0892\n",
            "Epoch 8/20\n",
            "60000/60000 [==============================] - 9s 144us/step - loss: 0.1388 - acc: 0.9777 - val_loss: 2.7065 - val_acc: 0.0892\n",
            "Epoch 9/20\n",
            "60000/60000 [==============================] - 8s 140us/step - loss: 0.1326 - acc: 0.9783 - val_loss: 2.8679 - val_acc: 0.0892\n",
            "Epoch 10/20\n",
            "60000/60000 [==============================] - 8s 140us/step - loss: 0.1292 - acc: 0.9787 - val_loss: 2.7432 - val_acc: 0.0892\n",
            "Epoch 11/20\n",
            "60000/60000 [==============================] - 8s 141us/step - loss: 0.1261 - acc: 0.9793 - val_loss: 2.8937 - val_acc: 0.0892\n",
            "Epoch 12/20\n",
            "60000/60000 [==============================] - 8s 141us/step - loss: 0.1237 - acc: 0.9797 - val_loss: 2.7637 - val_acc: 0.0892\n",
            "Epoch 13/20\n",
            "60000/60000 [==============================] - 9s 142us/step - loss: 0.1209 - acc: 0.9797 - val_loss: 2.9132 - val_acc: 0.0892\n",
            "Epoch 14/20\n",
            "60000/60000 [==============================] - 8s 140us/step - loss: 0.1185 - acc: 0.9801 - val_loss: 3.0881 - val_acc: 0.0892\n",
            "Epoch 15/20\n",
            "60000/60000 [==============================] - 8s 140us/step - loss: 0.1161 - acc: 0.9804 - val_loss: 2.8799 - val_acc: 0.0892\n",
            "Epoch 16/20\n",
            "60000/60000 [==============================] - 8s 140us/step - loss: 0.1133 - acc: 0.9812 - val_loss: 3.0777 - val_acc: 0.0892\n",
            "Epoch 17/20\n",
            "60000/60000 [==============================] - 8s 139us/step - loss: 0.1124 - acc: 0.9813 - val_loss: 3.0950 - val_acc: 0.0892\n",
            "Epoch 18/20\n",
            "60000/60000 [==============================] - 8s 140us/step - loss: 0.1114 - acc: 0.9822 - val_loss: 2.9422 - val_acc: 0.0892\n",
            "Epoch 19/20\n",
            "60000/60000 [==============================] - 8s 140us/step - loss: 0.1097 - acc: 0.9818 - val_loss: 3.2565 - val_acc: 0.0892\n",
            "Epoch 20/20\n",
            "60000/60000 [==============================] - 8s 140us/step - loss: 0.1091 - acc: 0.9818 - val_loss: 2.8454 - val_acc: 0.0892\n"
          ],
          "name": "stdout"
        }
      ]
    },
    {
      "cell_type": "markdown",
      "metadata": {
        "id": "dYrH62j4tSst",
        "colab_type": "text"
      },
      "source": [
        "Once again, we can best understand these results by creating plots of the loss and accuracy for training and evaluation vs. epoch. Execute the code in the two cells below to display these plots and study the results."
      ]
    },
    {
      "cell_type": "code",
      "metadata": {
        "id": "QqGO5SfvtHWD",
        "colab_type": "code",
        "colab": {
          "base_uri": "https://localhost:8080/",
          "height": 295
        },
        "outputId": "c2d96459-9c2d-4b6a-d6ce-6377d3f71830"
      },
      "source": [
        "plot_loss(history)"
      ],
      "execution_count": 35,
      "outputs": [
        {
          "output_type": "display_data",
          "data": {
            "image/png": "[encoded data removed]",
            "text/plain": [
              "<Figure size 432x288 with 1 Axes>"
            ]
          },
          "metadata": {
            "tags": []
          }
        }
      ]
    },
    {
      "cell_type": "code",
      "metadata": {
        "id": "tUZiZQ1mtrCQ",
        "colab_type": "code",
        "colab": {
          "base_uri": "https://localhost:8080/",
          "height": 295
        },
        "outputId": "43fd2829-20fb-48a1-bdc1-bf07b9a858aa"
      },
      "source": [
        "plot_accuracy(history)"
      ],
      "execution_count": 36,
      "outputs": [
        {
          "output_type": "display_data",
          "data": {
            "image/png": "[encoded data removed]",
            "text/plain": [
              "<Figure size 432x288 with 1 Axes>"
            ]
          },
          "metadata": {
            "tags": []
          }
        }
      ]
    },
    {
      "cell_type": "code",
      "metadata": {
        "id": "r_DZOPBqt7ll",
        "colab_type": "code",
        "colab": {}
      },
      "source": [
        ""
      ],
      "execution_count": 0,
      "outputs": []
    }
  ]
}